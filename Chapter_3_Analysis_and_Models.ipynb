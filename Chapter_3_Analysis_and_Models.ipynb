{
 "cells": [
  {
   "cell_type": "markdown",
   "id": "c021855b-24e3-442c-8b97-c3ab8d208006",
   "metadata": {},
   "source": [
    "# Chapter 3 - Finacial Statement Analysis and Financial Models"
   ]
  },
  {
   "cell_type": "markdown",
   "id": "6d07a060-4fd4-4ee6-a1d6-6e90e758590f",
   "metadata": {},
   "source": [
    "**Selected Exercises**\n",
    "\n",
    "Corporate Finance 9th International Edition\n",
    "\n",
    "Ross, Westerfield, Jaffe"
   ]
  },
  {
   "cell_type": "markdown",
   "id": "3bcb4764-ffb6-4836-9da9-e10a66ff57ef",
   "metadata": {},
   "source": [
    "**1. Dupont Identity** - If Roten, Inc. has an equity multiplier of 1.35, total asset turnover of 2.15, and a profit margin of 5.8 percent, what is its ROE?"
   ]
  },
  {
   "cell_type": "code",
   "execution_count": 5,
   "id": "928a8128-dcd8-4d07-bb48-2f91527f1188",
   "metadata": {},
   "outputs": [
    {
     "data": {
      "text/plain": [
       "\"Roten's Return on Equity is: 16.83\""
      ]
     },
     "execution_count": 5,
     "metadata": {},
     "output_type": "execute_result"
    }
   ],
   "source": [
    "# The ROE could be expressed as: Profit margin * Total Asset Turnover * Equity Multiplier\n",
    "\n",
    "profit_margin = 5.8\n",
    "total_asset_turnover = 2.15\n",
    "equity_multiplier = 1.35\n",
    "\n",
    "def dupont_identity(pm, tat, em):\n",
    "    return pm * tat * em\n",
    "\n",
    "ROE = dupont_identity(profit_margin, total_asset_turnover, equity_multiplier)\n",
    "answer = f\"Roten's Return on Equity is: {ROE:.2f}\"\n",
    "answer  \n"
   ]
  },
  {
   "cell_type": "code",
   "execution_count": null,
   "id": "e34a65d1-8d53-46ad-b1b6-f02710511762",
   "metadata": {},
   "outputs": [],
   "source": []
  },
  {
   "cell_type": "markdown",
   "id": "4a154d6c-29ae-4038-b79f-ca22f2296137",
   "metadata": {},
   "source": [
    "**2. Equity Multiplier and Return on Equity** - Thomsen Company has a debt-equity ratio of .90. Return on assets is 10.1 percent, and total equity is $645,000. What is the equity multiplier? Return on Equity Net Income?"
   ]
  },
  {
   "cell_type": "code",
   "execution_count": 15,
   "id": "2919b935-fc1e-403b-9c49-3d2ea1ef3354",
   "metadata": {},
   "outputs": [
    {
     "name": "stdout",
     "output_type": "stream",
     "text": [
      "Equity Multiplier = 1.90\n",
      "Return on Equity = 19.19\n",
      "Net Income = 123,775.50\n"
     ]
    }
   ],
   "source": [
    "debt_equity_ratio = .90\n",
    "return_on_assets = 10.1\n",
    "total_equity = 645000\n",
    "\n",
    "# Equity multiplier = 1 + debt/equity\n",
    "equity_multiplier = 1 + debt_equity_ratio\n",
    "\n",
    "# One way to get the Return on Equity is by: ROA * EM\n",
    "return_on_equity = return_on_assets * equity_multiplier\n",
    "\n",
    "#Another way of calculating ROE is by: Net Income / Total Equity so:\n",
    "net_income = (return_on_equity / 100) * total_equity\n",
    "\n",
    "answer = f'Equity Multiplier = {equity_multiplier:.2f}\\nReturn on Equity = {return_on_equity:.2f}\\nNet Income = {net_income:,.2f}'\n",
    "print(answer)"
   ]
  },
  {
   "cell_type": "code",
   "execution_count": null,
   "id": "a9167f4a-fcd5-47cd-8c99-df12fb294e83",
   "metadata": {},
   "outputs": [],
   "source": []
  },
  {
   "cell_type": "markdown",
   "id": "c283156e-e8be-437b-8686-29ba20b78b19",
   "metadata": {},
   "source": [
    "**3. Using the Du Pont Identity** - Y3K, Inc., has sales of 3,100, total assets of 1,580, and a debt-equity ratio of 1.20.  If its return on equity is 16 percent, what is its net income?"
   ]
  },
  {
   "cell_type": "code",
   "execution_count": 21,
   "id": "a8166189-fcc9-4f78-840a-4269e40c54cb",
   "metadata": {},
   "outputs": [
    {
     "data": {
      "text/plain": [
       "'Net income = $114.91'"
      ]
     },
     "execution_count": 21,
     "metadata": {},
     "output_type": "execute_result"
    }
   ],
   "source": [
    "sales = 3100\n",
    "total_assets = 1580\n",
    "debt_to_equity = 1.20\n",
    "return_on_equity = .16\n",
    "\n",
    "#To find the net income we need to solve for the profit margin using the dupont identity.\n",
    "#profit_margin = (ROE * TA) / (1 + D/E) * S\n",
    "\n",
    "def Profit_Margin(roe, ta, de, sl):\n",
    "    return (roe * ta) / ((1 + de) * sl)\n",
    "\n",
    "profit_margin = Profit_Margin(return_on_equity, total_assets, debt_to_equity, sales)\n",
    "\n",
    "# With the profit margin we can solve for the net income.\n",
    "net_income = profit_margin * sales\n",
    "\n",
    "answer = f'Net income = ${net_income:.2f}'\n",
    "answer\n"
   ]
  },
  {
   "cell_type": "code",
   "execution_count": 7,
   "id": "856098eb-6514-403d-96d8-0f8b39583103",
   "metadata": {},
   "outputs": [],
   "source": []
  },
  {
   "cell_type": "markdown",
   "id": "91f06259-1121-4a4f-9a53-8ccdf55ea4be",
   "metadata": {},
   "source": [
    "**4. External Financing Needed** - The most recent financial statements for Martin, Inc are shown in the code box.  Assets and costs are proportional to sales.  Debt and equity are not.  A dividend of 1,841.40 was paid, and Martin wishes to maintain a constant payout ratio.  Next year's sales are projected to be 30,960.  What external financing is needed?"
   ]
  },
  {
   "cell_type": "code",
   "execution_count": 47,
   "id": "3258ec38-6fcd-455a-9f13-a5d4518d15ae",
   "metadata": {},
   "outputs": [
    {
     "data": {
      "text/plain": [
       "'The external financing needed is $17,444.08'"
      ]
     },
     "execution_count": 47,
     "metadata": {},
     "output_type": "execute_result"
    }
   ],
   "source": [
    "\"\"\"\n",
    "Net Income                             Balance Sheet\n",
    "-------------------------              -----------------------------------------------------\n",
    "Sales             $25,800              Assets               113,000       Debt         20,500\n",
    "Costs              16,500                                                 Equity       92,500\n",
    "                  -------                                   -------                  --------\n",
    "Taxable Income      9,300              Total                113,000                   113,000\n",
    "Taxes (34%)         3,162                                   -------                  --------   \n",
    "                   ------                                   -------                  --------\n",
    "  Net Income      $ 6,138\n",
    "                  -------\n",
    "                  -------\n",
    "\"\"\"\n",
    "#Required data\n",
    "sales = 25800\n",
    "projected = 30960\n",
    "net_income = 6138\n",
    "dividends = 1841.40\n",
    "assets = 113000\n",
    "debt = 0\n",
    "\n",
    "\n",
    "def external_financing_needed(sales, projected, net_income, dividends, assets, debt):\n",
    "    \n",
    "    sales_chg = projected - sales\n",
    "    profit_margin = net_income / sales\n",
    "    payout_ratio = dividends / net_income\n",
    "\n",
    "    efn = ((assets / sales) * sales_chg) - ((debt / sales) * sales_chg) - (profit_margin * projected) * (1 - payout_ratio)\n",
    "    return efn\n",
    "\n",
    "efn = external_financing_needed(sales, projected, net_income, dividends, assets, debt)\n",
    "answer = f'The external financing needed is ${efn:,.2f}'\n",
    "answer"
   ]
  },
  {
   "cell_type": "code",
   "execution_count": null,
   "id": "23de0f80-384e-4bd6-b377-21c1ec8b538a",
   "metadata": {},
   "outputs": [],
   "source": []
  },
  {
   "cell_type": "markdown",
   "id": "597b0798-acbf-4fc1-a3da-41f2e6818ccc",
   "metadata": {},
   "source": [
    "**5. Sales and Growth** - The most recent financial statements for Fontenot Co. are shown in the code box.  Assets and costs are proportional to sales.  The company maintains a constant 30 percent dividend payout ratio and a constant debt-equity ratio.  What is the maximum increase in sales that can be sustained assuming no new equity is issued?"
   ]
  },
  {
   "cell_type": "code",
   "execution_count": 20,
   "id": "c26a7947-a9ab-45d2-b22e-6f1d1454bdc0",
   "metadata": {},
   "outputs": [
    {
     "data": {
      "text/plain": [
       "'the maximum increase in sales that can be sustained assuming no new equity is issued is $10,217.93'"
      ]
     },
     "execution_count": 20,
     "metadata": {},
     "output_type": "execute_result"
    }
   ],
   "source": [
    "\"\"\"\n",
    "Net Income                             Balance Sheet\n",
    "-------------------------              -----------------------------------------------------\n",
    "Sales             $67,000              Current Assets        31,000      Debt         68,000\n",
    "Costs              43,800              Fixed Assets         118,000      Equity       81,000\n",
    "                   ------                                   -------                  -------\n",
    "Taxable Income     23,200              Total                149,000                  149,000\n",
    "Taxes (34%)         7,888                                   -------                  -------   \n",
    "                   ------                                   -------                  -------\n",
    "  Net Income      $15,312\n",
    "                  -------\n",
    "                  -------\n",
    "\"\"\"\n",
    "\n",
    "# We can solve this problem with the sustainable growth rate, in order to do so we need to get the ROE using one of the dupont's identities.\n",
    "net_income = 15312\n",
    "equity = 81000\n",
    "roe = net_income / equity\n",
    "\n",
    "# Next we need the retention ratio.\n",
    "dividend_payout_ratio = .30 \n",
    "retention_ratio = 1 - dividend_payout_ratio\n",
    "\n",
    "# no we can find the sustainable growth rate\n",
    "sgr =  (roe * retention_ratio) / (1 - (roe * retention_ratio))\n",
    "\n",
    "# Finaly we use the sustainable growth rate to find the maximum increase in sales\n",
    "sales = 67000 \n",
    "maximum = sales * sgr\n",
    "answer = f'The maximum increase in sales that can be sustained assuming no new equity is issued is ${maximum:,.2f}' \n",
    "answer\n"
   ]
  },
  {
   "cell_type": "code",
   "execution_count": null,
   "id": "c06e3db7-e687-40c8-aa04-f6f14528328d",
   "metadata": {},
   "outputs": [],
   "source": []
  },
  {
   "cell_type": "markdown",
   "id": "f3c131c8-fe52-492c-8132-0742780ccf8d",
   "metadata": {},
   "source": [
    "**6. Sustainable Growth Rate** - If the Layla Corp. has a 15 percent ROE and a 10 percent payout ratio, what is its sustainable growth rate?"
   ]
  },
  {
   "cell_type": "code",
   "execution_count": 11,
   "id": "37aa3d86-e392-4961-85ea-e119c3c5145a",
   "metadata": {},
   "outputs": [
    {
     "data": {
      "text/plain": [
       "'The sustainable growth rate is: 15.61%'"
      ]
     },
     "execution_count": 11,
     "metadata": {},
     "output_type": "execute_result"
    }
   ],
   "source": [
    "#Given\n",
    "roe = .15\n",
    "payout_ratio = .10\n",
    "\n",
    "#To get the sustainable growth rate we need to get the retention ratio:\n",
    "retention_ratio = 1 - payout_ratio\n",
    "\n",
    "#sustainable growth rate = (ROE * b) / (1 - ROE * b)\n",
    "\n",
    "sgr =  ((roe * retention_ratio) / (1 - (roe * retention_ratio))) * 100\n",
    "answer = f'The sustainable growth rate is: {sgr:.2f}%' \n",
    "answer"
   ]
  },
  {
   "cell_type": "markdown",
   "id": "81c4b0d4-d749-4243-8566-df1e255e2952",
   "metadata": {},
   "source": [
    "**7. Sustainable Growth Rate** - The data will be provided in the code block.  What is the sustainable growth rate?"
   ]
  },
  {
   "cell_type": "code",
   "execution_count": 16,
   "id": "7d3a483e-f863-4608-bd14-4d681980233f",
   "metadata": {},
   "outputs": [
    {
     "data": {
      "text/plain": [
       "'The sustainable growth rate is: 15.56%'"
      ]
     },
     "execution_count": 16,
     "metadata": {},
     "output_type": "execute_result"
    }
   ],
   "source": [
    "total_asset_turnover = 1.90\n",
    "profit_margin_pct = .081\n",
    "equity_multiplier = 1.25\n",
    "payout_ratio_pct = .30\n",
    "\n",
    "# In order to compute the sustainable growth ratio we need the ROE, it is not given but we can find it using the dupont identity.\n",
    "roe = total_asset_turnover * profit_margin_pct * equity_multiplier\n",
    "\n",
    "# Now we need to find the retentation ratio\n",
    "retention_ratio = 1 - payout_ratio_pct\n",
    "\n",
    "#Finaly we compute the sustainable growth ratio: (ROE * b) / (1 - ROE * b)\n",
    "sgr = ((roe * retention_ratio) / (1 - (roe * retention_ratio))) * 100\n",
    "answer = f'The sustainable growth rate is: {sgr:.2f}%' \n",
    "answer\n",
    "                    "
   ]
  },
  {
   "cell_type": "code",
   "execution_count": null,
   "id": "da4f8f69-c86e-4870-bbb6-817d34a48598",
   "metadata": {},
   "outputs": [],
   "source": []
  },
  {
   "cell_type": "markdown",
   "id": "eb835b21-9b59-4514-bd90-94f98efa799a",
   "metadata": {},
   "source": [
    "**8. Calculating EFN** - The most recent financial statements for Bradley, Inc., are shown in the code box (assuming no income taxes).  Assets and costs are proportional to sales. Debt and equity are not.  No dividends are paid.  Next yer's sales are projected to be 6,669.  What is the external financing needed? "
   ]
  },
  {
   "cell_type": "code",
   "execution_count": 46,
   "id": "2ba0af1b-6ce4-4415-a6da-5af55148a2dc",
   "metadata": {},
   "outputs": [
    {
     "data": {
      "text/plain": [
       "'The external financing needed is $197.40'"
      ]
     },
     "execution_count": 46,
     "metadata": {},
     "output_type": "execute_result"
    }
   ],
   "source": [
    "\"\"\"\n",
    "Net Income                             Balance Sheet\n",
    "-------------------------              -----------------------------------------------------\n",
    "Sales             $5,700              Assets               14,100         Debt         6,300\n",
    "Costs              3,820                                                  Equity       7,800\n",
    "                  -------                                  -------                  --------\n",
    "Net Income         1,880              Total                14,100                     14,100\n",
    "                   -----                                   -------                  --------   \n",
    "                   -----                                   -------                  --------\n",
    "\"\"\"\n",
    "#Required data\n",
    "sales = 5700\n",
    "projected = 6669\n",
    "net_income = 1880\n",
    "dividends = 0\n",
    "assets = 14100\n",
    "debt = 0\n",
    "\n",
    "\n",
    "def external_financing_needed(sales, projected, net_income, dividends, assets, debt):\n",
    "    \n",
    "    sales_chg = projected - sales\n",
    "    profit_margin = net_income / sales\n",
    "    payout_ratio = dividends / net_income\n",
    "    \n",
    "    efn = ((assets / sales) * sales_chg) - ((debt / sales) * sales_chg) - (profit_margin * projected) * (1 - payout_ratio)\n",
    "    return efn\n",
    "\n",
    "efn = external_financing_needed(sales, projected, net_income, dividends, assets, debt)\n",
    "answer = f'The external financing needed is ${efn:,.2f}'\n",
    "answer"
   ]
  },
  {
   "cell_type": "code",
   "execution_count": null,
   "id": "11a439e1-7a0e-45bf-b408-1631668bec71",
   "metadata": {},
   "outputs": [],
   "source": []
  },
  {
   "cell_type": "markdown",
   "id": "0378b54d-b8f3-461c-bccc-b52a591dab6f",
   "metadata": {},
   "source": [
    "**10. Sustainable Growth Rate** - The Steiben Company has a ROE of 10.5 percent and a payout ratio of 40 percent. What is the company's sustainable growth rate?"
   ]
  },
  {
   "cell_type": "code",
   "execution_count": 30,
   "id": "d34fe5ed-28a1-4f47-922c-47df81c02608",
   "metadata": {},
   "outputs": [
    {
     "data": {
      "text/plain": [
       "'The sustainable growth rate is 6.72'"
      ]
     },
     "execution_count": 30,
     "metadata": {},
     "output_type": "execute_result"
    }
   ],
   "source": [
    "# Find the retentation ratio\n",
    "payout_ratio = .40 # given\n",
    "retention_ratio = 1 - payout_ratio\n",
    "\n",
    "# Compute the Sustaianable Growth rate\n",
    "roe = .105 # given\n",
    "sgr = ((roe * retention_ratio) / (1 - (roe * retention_ratio))) * 100\n",
    "answer = f'The sustainable growth rate is {sgr:.2f}'\n",
    "answer"
   ]
  },
  {
   "cell_type": "code",
   "execution_count": null,
   "id": "c8732c1c-8efc-48df-9849-d4b88771fe09",
   "metadata": {},
   "outputs": [],
   "source": []
  },
  {
   "cell_type": "markdown",
   "id": "05f16037-8f5e-4330-85bf-685ac5a60a3f",
   "metadata": {},
   "source": [
    "**13. External Funds Needed** - The Optical Scam Company has forecast a 20 percent sales growth rate for the next year. The current financial statements are shown in the code box.  Calculate the External Funds Needed."
   ]
  },
  {
   "cell_type": "code",
   "execution_count": 38,
   "id": "1b3d4da4-bc2a-4944-803f-25c33a7e947e",
   "metadata": {},
   "outputs": [
    {
     "data": {
      "text/plain": [
       "'The external financing needed is $1,957,760'"
      ]
     },
     "execution_count": 38,
     "metadata": {},
     "output_type": "execute_result"
    }
   ],
   "source": [
    "\"\"\"\n",
    "Net Income                             Balance Sheet\n",
    "-------------------------              -----------------------------------------------------\n",
    "Sales             $30,400,000              Current Assets        7,200,000      Short Term Debt        6,400,000\n",
    "Costs              26,720,000              Fixed Assets         17,600,000      Long Term Debt         4,800,000\n",
    "                  -----------                                   -----------      \n",
    "Taxable Income      3,680,000              Total                24,800,000      Common Stock           3,200,000\n",
    "Taxes               1,288,000                                   -------         Retained Earnings     10,400,000   \n",
    "                  -----------                                   -------                               ----------\n",
    "  Net Income      $ 2,392,000                                                   Total Equity          13,600,000\n",
    "                  -----------                                                                         ----------\n",
    "                  -----------                                                   Total                 24,800,000\n",
    "  Dividends           956,800\n",
    "  Retained Earn     1,435,200\n",
    "  \n",
    "\"\"\"\n",
    "\n",
    "# Lets gather some needed variables\n",
    "current_sales = 30400000\n",
    "projected_sales = current_sales * 1.20\n",
    "net_income = 2392000\n",
    "profit_margin = net_income / current_sales\n",
    "dividends = 956800\n",
    "assets = 24800000\n",
    "short_debt = 6400000\n",
    "\n",
    "def external_financing_needed(sales, projected, net_income, dividends, assets, debt):\n",
    "    \n",
    "    sales_chg = projected - sales\n",
    "    profit_margin = net_income / sales\n",
    "    payout_ratio = dividends / net_income\n",
    "\n",
    "    efn = ((assets / sales) * sales_chg) - ((debt / sales) * sales_chg) - (profit_margin * projected) * (1 - payout_ratio)\n",
    "\n",
    "    return efn\n",
    "\n",
    "efn = external_financing_needed(current_sales, projected_sales, net_income, dividends, assets, short_debt)\n",
    "answer = f'The external financing needed is ${efn:,.0f}'\n",
    "answer\n",
    "\n"
   ]
  },
  {
   "cell_type": "code",
   "execution_count": null,
   "id": "43fad78c-32b4-4240-85a1-02f10777d3a5",
   "metadata": {},
   "outputs": [],
   "source": []
  },
  {
   "cell_type": "markdown",
   "id": "116ee59b-7b61-4c33-909a-cd0abd16610a",
   "metadata": {},
   "source": [
    "**14. Days' Sales in Receivables** - A company has net income of 205,000, a profit margin of 9.3 percent, and an account receivable balance of 162,500.  Assuming 80 percent of sales are on credit, what is the company's days' sales in receivable?"
   ]
  },
  {
   "cell_type": "code",
   "execution_count": 60,
   "id": "d9410526-7931-43fe-8e79-48f0785742c0",
   "metadata": {},
   "outputs": [
    {
     "data": {
      "text/plain": [
       "\"The company's days' sales in receivable is 33.63\""
      ]
     },
     "execution_count": 60,
     "metadata": {},
     "output_type": "execute_result"
    }
   ],
   "source": [
    "#Data given\n",
    "net_income = 205000\n",
    "profit_margin = .093\n",
    "accounts_receivable = 162500\n",
    "credit_sales_pct = .80\n",
    "\n",
    "# First we need to find total sales\n",
    "total_sales = net_income / profit_margin\n",
    "\n",
    "# Now we need to get credit sales\n",
    "credit_sales = total_sales * credit_sales_pct\n",
    "\n",
    "# Next we calculate Accounts Receivable Turnover\n",
    "accounts_receivable_turnover = credit_sales / accounts_receivable\n",
    "\n",
    "# Finally we compute Days' Sales In Receivable\n",
    "days_sales_in_receivable = 365 / accounts_receivable_turnover\n",
    "\n",
    "answer = f\"The company's days' sales in receivable is {days_sales_in_receivable:.2f} days\"\n",
    "answer"
   ]
  },
  {
   "cell_type": "code",
   "execution_count": null,
   "id": "89ebd64d-8235-4181-ace9-d9655ca9bf51",
   "metadata": {},
   "outputs": [],
   "source": []
  }
 ],
 "metadata": {
  "kernelspec": {
   "display_name": "Python 3 (ipykernel)",
   "language": "python",
   "name": "python3"
  },
  "language_info": {
   "codemirror_mode": {
    "name": "ipython",
    "version": 3
   },
   "file_extension": ".py",
   "mimetype": "text/x-python",
   "name": "python",
   "nbconvert_exporter": "python",
   "pygments_lexer": "ipython3",
   "version": "3.11.8"
  }
 },
 "nbformat": 4,
 "nbformat_minor": 5
}
