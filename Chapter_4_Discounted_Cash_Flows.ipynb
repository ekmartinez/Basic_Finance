{
 "cells": [
  {
   "cell_type": "markdown",
   "id": "54713545-b2f6-4032-b54b-b38f2334c4f5",
   "metadata": {},
   "source": [
    "# Chapter 4 - Discounted Cash Flow Valuation"
   ]
  },
  {
   "cell_type": "markdown",
   "id": "790e1794-7498-454e-93c8-94b87507ae80",
   "metadata": {},
   "source": [
    "**Selected Exercises**\n",
    "\n",
    "Corporate Finance 9th International Edition\n",
    "\n",
    "Ross, Westerfield, Jaffe"
   ]
  },
  {
   "cell_type": "code",
   "execution_count": 42,
   "id": "94d6e531-2549-43a5-ab7d-f314047a9ea0",
   "metadata": {},
   "outputs": [],
   "source": [
    "import warnings\n",
    "import pandas as pd\n",
    "import numpy_financial as npf\n",
    "# Lets define some functions so we can reuse them later.\n",
    "\n",
    "def present_value_amount(amount, rate, periods):\n",
    "    \"\"\"Returns the present value of $1\"\"\"\n",
    "    pv_fact = 1 / (1 + rate)**(periods)\n",
    "    \n",
    "    return pv_fact * amount\n",
    "\n",
    "\n",
    "def future_value_simple(amount, rate, periods):\n",
    "    \"\"\"Returns future value with simple interest\"\"\"\n",
    "    \n",
    "    return f'{amount + (amount * interest_rate) * periods:,.2f}'\n",
    "\n",
    "def future_value_compounded(amount, rate, periods):\n",
    "    \"\"\"Returns future value with compounding interest\"\"\"\n",
    "    \n",
    "    return f'{amount * (1 + rate) ** periods:,.2f}'\n",
    "    "
   ]
  },
  {
   "cell_type": "markdown",
   "id": "a701552f-d28d-4bb2-aa23-200edc9c14a7",
   "metadata": {},
   "source": [
    "**1. Simple vs Compound Interest** - First City Bank pays 9 percent simple interest on its savings account balances, whereas Second City Bank pays 9 percent interest compounded annually.  If you made a a 5,000 deposit in each bank, how much more money would you earn from your Second City Bank account at the end of 10 years?"
   ]
  },
  {
   "cell_type": "code",
   "execution_count": 18,
   "id": "b6ad521c-911a-4ed4-a477-afe3de6a695e",
   "metadata": {},
   "outputs": [
    {
     "data": {
      "text/html": [
       "<style type=\"text/css\">\n",
       "#T_62b11_row0_col0, #T_62b11_row0_col1 {\n",
       "  text-align: center;\n",
       "}\n",
       "</style>\n",
       "<table id=\"T_62b11\">\n",
       "  <thead>\n",
       "    <tr>\n",
       "      <th class=\"blank level0\" >&nbsp;</th>\n",
       "      <th id=\"T_62b11_level0_col0\" class=\"col_heading level0 col0\" >First Bank</th>\n",
       "      <th id=\"T_62b11_level0_col1\" class=\"col_heading level0 col1\" >Second Bank</th>\n",
       "    </tr>\n",
       "  </thead>\n",
       "  <tbody>\n",
       "    <tr>\n",
       "      <th id=\"T_62b11_level0_row0\" class=\"row_heading level0 row0\" >0</th>\n",
       "      <td id=\"T_62b11_row0_col0\" class=\"data row0 col0\" >9,500.00</td>\n",
       "      <td id=\"T_62b11_row0_col1\" class=\"data row0 col1\" >11,836.82</td>\n",
       "    </tr>\n",
       "  </tbody>\n",
       "</table>\n"
      ],
      "text/plain": [
       "<pandas.io.formats.style.Styler at 0x7f7b0d441690>"
      ]
     },
     "execution_count": 18,
     "metadata": {},
     "output_type": "execute_result"
    }
   ],
   "source": [
    "interest_rate = .09\n",
    "deposit = 5000\n",
    "periods = 10\n",
    "\n",
    "First_Bank = future_value_simple(deposit, interest_rate, periods)\n",
    "Second_Bank = future_value_compounded(deposit, interest_rate, periods)\n",
    "\n",
    "df = pd.DataFrame([[First_Bank, Second_Bank]],\n",
    "                 columns = (\"First Bank\",\"Second Bank\"))\n",
    "\n",
    "df = df.style.set_properties(**{'text-align': 'center'})\n",
    "df"
   ]
  },
  {
   "cell_type": "code",
   "execution_count": null,
   "id": "f73698bf-7f7c-4e52-b4bb-97b8e9c239a3",
   "metadata": {},
   "outputs": [],
   "source": []
  },
  {
   "cell_type": "markdown",
   "id": "324b582e-158e-4dfb-b8e1-f13bacec16a1",
   "metadata": {},
   "source": [
    "**2. Calculating Future Values** - Compute the future value of 1,000 compounded annually for: \n",
    "\n",
    "* a. 10 years at 6 percent\n",
    "* b. 10 years at 9 percent\n",
    "* c. 20 years at 6 percent"
   ]
  },
  {
   "cell_type": "code",
   "execution_count": 19,
   "id": "7942b73f-c32b-4cde-9caf-de1694c2296b",
   "metadata": {},
   "outputs": [
    {
     "data": {
      "text/html": [
       "<style type=\"text/css\">\n",
       "#T_49eb6_row0_col0, #T_49eb6_row0_col1, #T_49eb6_row0_col2, #T_49eb6_row0_col3, #T_49eb6_row1_col0, #T_49eb6_row1_col1, #T_49eb6_row1_col2, #T_49eb6_row1_col3, #T_49eb6_row2_col0, #T_49eb6_row2_col1, #T_49eb6_row2_col2, #T_49eb6_row2_col3 {\n",
       "  text-align: center;\n",
       "}\n",
       "</style>\n",
       "<table id=\"T_49eb6\">\n",
       "  <thead>\n",
       "    <tr>\n",
       "      <th class=\"blank level0\" >&nbsp;</th>\n",
       "      <th id=\"T_49eb6_level0_col0\" class=\"col_heading level0 col0\" >Amount</th>\n",
       "      <th id=\"T_49eb6_level0_col1\" class=\"col_heading level0 col1\" >Periods</th>\n",
       "      <th id=\"T_49eb6_level0_col2\" class=\"col_heading level0 col2\" >Rate</th>\n",
       "      <th id=\"T_49eb6_level0_col3\" class=\"col_heading level0 col3\" >Answer</th>\n",
       "    </tr>\n",
       "  </thead>\n",
       "  <tbody>\n",
       "    <tr>\n",
       "      <th id=\"T_49eb6_level0_row0\" class=\"row_heading level0 row0\" >0</th>\n",
       "      <td id=\"T_49eb6_row0_col0\" class=\"data row0 col0\" >1,000</td>\n",
       "      <td id=\"T_49eb6_row0_col1\" class=\"data row0 col1\" >10</td>\n",
       "      <td id=\"T_49eb6_row0_col2\" class=\"data row0 col2\" >6.00%</td>\n",
       "      <td id=\"T_49eb6_row0_col3\" class=\"data row0 col3\" >1,790.85</td>\n",
       "    </tr>\n",
       "    <tr>\n",
       "      <th id=\"T_49eb6_level0_row1\" class=\"row_heading level0 row1\" >1</th>\n",
       "      <td id=\"T_49eb6_row1_col0\" class=\"data row1 col0\" >1,000</td>\n",
       "      <td id=\"T_49eb6_row1_col1\" class=\"data row1 col1\" >10</td>\n",
       "      <td id=\"T_49eb6_row1_col2\" class=\"data row1 col2\" >9.00%</td>\n",
       "      <td id=\"T_49eb6_row1_col3\" class=\"data row1 col3\" >2,367.36</td>\n",
       "    </tr>\n",
       "    <tr>\n",
       "      <th id=\"T_49eb6_level0_row2\" class=\"row_heading level0 row2\" >2</th>\n",
       "      <td id=\"T_49eb6_row2_col0\" class=\"data row2 col0\" >1,000</td>\n",
       "      <td id=\"T_49eb6_row2_col1\" class=\"data row2 col1\" >20</td>\n",
       "      <td id=\"T_49eb6_row2_col2\" class=\"data row2 col2\" >6.00%</td>\n",
       "      <td id=\"T_49eb6_row2_col3\" class=\"data row2 col3\" >3,207.14</td>\n",
       "    </tr>\n",
       "  </tbody>\n",
       "</table>\n"
      ],
      "text/plain": [
       "<pandas.io.formats.style.Styler at 0x7f7b0d7e2610>"
      ]
     },
     "execution_count": 19,
     "metadata": {},
     "output_type": "execute_result"
    }
   ],
   "source": [
    "#Read data\n",
    "df = pd.DataFrame([[1000, 10, .06],\n",
    "                    [1000, 10, .09],\n",
    "                    [1000, 20, .06]],\n",
    "                    columns=(\"Amount\", \"Periods\", \"Rate\"))\n",
    "\n",
    "#Apply Future Value function\n",
    "df['Answer'] = df.apply(lambda row: future_value_compounded(row['Amount'], row['Rate'], row['Periods']), axis=1)\n",
    "\n",
    "#Format Data Frame Style\n",
    "df['Amount'] = df['Amount'].map('{:,.0f}'.format)\n",
    "df['Rate'] = df['Rate'].map('{:.2%}'.format)\n",
    "df = df.style.set_properties(**{'text-align': 'center'})\n",
    "df"
   ]
  },
  {
   "cell_type": "code",
   "execution_count": null,
   "id": "51566c38-b245-48fe-839f-1eb7193c6135",
   "metadata": {},
   "outputs": [],
   "source": []
  },
  {
   "cell_type": "markdown",
   "id": "826dd831-55b5-4c26-bbb8-7728c95c6c5d",
   "metadata": {},
   "source": [
    "**3. Calculating Present Values** - For each of the following compute the present value:"
   ]
  },
  {
   "cell_type": "code",
   "execution_count": null,
   "id": "b5c2c0e4-145c-41e4-b2e2-a68010849f1e",
   "metadata": {},
   "outputs": [],
   "source": [
    "\"\"\"\n",
    "Years    Rate    Future Value\n",
    "  6       7%        15,451\n",
    "  9       15%       51,557\n",
    "  18      11%      886,073\n",
    "  23      18%      550,164\n",
    "\"\"\""
   ]
  },
  {
   "cell_type": "code",
   "execution_count": 17,
   "id": "3dd3abcb-2536-41c1-92a2-7deae41dafaf",
   "metadata": {},
   "outputs": [
    {
     "data": {
      "text/html": [
       "<style type=\"text/css\">\n",
       "#T_2a8aa_row0_col0, #T_2a8aa_row0_col1, #T_2a8aa_row0_col2, #T_2a8aa_row0_col3, #T_2a8aa_row1_col0, #T_2a8aa_row1_col1, #T_2a8aa_row1_col2, #T_2a8aa_row1_col3, #T_2a8aa_row2_col0, #T_2a8aa_row2_col1, #T_2a8aa_row2_col2, #T_2a8aa_row2_col3, #T_2a8aa_row3_col0, #T_2a8aa_row3_col1, #T_2a8aa_row3_col2, #T_2a8aa_row3_col3 {\n",
       "  text-align: center;\n",
       "}\n",
       "</style>\n",
       "<table id=\"T_2a8aa\">\n",
       "  <thead>\n",
       "    <tr>\n",
       "      <th class=\"blank level0\" >&nbsp;</th>\n",
       "      <th id=\"T_2a8aa_level0_col0\" class=\"col_heading level0 col0\" >Future_Value</th>\n",
       "      <th id=\"T_2a8aa_level0_col1\" class=\"col_heading level0 col1\" >Years</th>\n",
       "      <th id=\"T_2a8aa_level0_col2\" class=\"col_heading level0 col2\" >Rate</th>\n",
       "      <th id=\"T_2a8aa_level0_col3\" class=\"col_heading level0 col3\" >Present_Value</th>\n",
       "    </tr>\n",
       "  </thead>\n",
       "  <tbody>\n",
       "    <tr>\n",
       "      <th id=\"T_2a8aa_level0_row0\" class=\"row_heading level0 row0\" >0</th>\n",
       "      <td id=\"T_2a8aa_row0_col0\" class=\"data row0 col0\" >15,541</td>\n",
       "      <td id=\"T_2a8aa_row0_col1\" class=\"data row0 col1\" >6</td>\n",
       "      <td id=\"T_2a8aa_row0_col2\" class=\"data row0 col2\" >7.00%</td>\n",
       "      <td id=\"T_2a8aa_row0_col3\" class=\"data row0 col3\" >10,356</td>\n",
       "    </tr>\n",
       "    <tr>\n",
       "      <th id=\"T_2a8aa_level0_row1\" class=\"row_heading level0 row1\" >1</th>\n",
       "      <td id=\"T_2a8aa_row1_col0\" class=\"data row1 col0\" >51,557</td>\n",
       "      <td id=\"T_2a8aa_row1_col1\" class=\"data row1 col1\" >9</td>\n",
       "      <td id=\"T_2a8aa_row1_col2\" class=\"data row1 col2\" >15.00%</td>\n",
       "      <td id=\"T_2a8aa_row1_col3\" class=\"data row1 col3\" >14,656</td>\n",
       "    </tr>\n",
       "    <tr>\n",
       "      <th id=\"T_2a8aa_level0_row2\" class=\"row_heading level0 row2\" >2</th>\n",
       "      <td id=\"T_2a8aa_row2_col0\" class=\"data row2 col0\" >886,076</td>\n",
       "      <td id=\"T_2a8aa_row2_col1\" class=\"data row2 col1\" >18</td>\n",
       "      <td id=\"T_2a8aa_row2_col2\" class=\"data row2 col2\" >11.00%</td>\n",
       "      <td id=\"T_2a8aa_row2_col3\" class=\"data row2 col3\" >135,412</td>\n",
       "    </tr>\n",
       "    <tr>\n",
       "      <th id=\"T_2a8aa_level0_row3\" class=\"row_heading level0 row3\" >3</th>\n",
       "      <td id=\"T_2a8aa_row3_col0\" class=\"data row3 col0\" >550,164</td>\n",
       "      <td id=\"T_2a8aa_row3_col1\" class=\"data row3 col1\" >23</td>\n",
       "      <td id=\"T_2a8aa_row3_col2\" class=\"data row3 col2\" >18.00%</td>\n",
       "      <td id=\"T_2a8aa_row3_col3\" class=\"data row3 col3\" >12,224</td>\n",
       "    </tr>\n",
       "  </tbody>\n",
       "</table>\n"
      ],
      "text/plain": [
       "<pandas.io.formats.style.Styler at 0x7f7b0dcc72d0>"
      ]
     },
     "execution_count": 17,
     "metadata": {},
     "output_type": "execute_result"
    }
   ],
   "source": [
    "#Read data\n",
    "df = pd.DataFrame([[15541, 6, .07], \n",
    "                  [51557, 9, .15],\n",
    "                  [886076, 18, .11],\n",
    "                   [550164, 23, .18]],\n",
    "                 columns = (\"Future_Value\", \"Years\", \"Rate\"))\n",
    "\n",
    "#Apply Present Value function\n",
    "df['Present_Value'] = df.apply(lambda row: present_value_amount(row['Future_Value'], row['Rate'], row['Years']), axis=1)\n",
    "\n",
    "#Format Data Frame Style\n",
    "df['Future_Value'] = df['Future_Value'].map('{:,.0f}'.format)\n",
    "df['Present_Value'] = df['Present_Value'].map('{:,.0f}'.format)\n",
    "df['Rate'] = df['Rate'].map('{:.2%}'.format)\n",
    "df = df.style.set_properties(**{'text-align': 'center'})\n",
    "df"
   ]
  },
  {
   "cell_type": "code",
   "execution_count": null,
   "id": "0074861f-2470-4d00-9466-45fd5ebca9af",
   "metadata": {},
   "outputs": [],
   "source": []
  },
  {
   "cell_type": "markdown",
   "id": "1e1c15fb-14b1-47aa-bac7-e4c79160e186",
   "metadata": {},
   "source": [
    "**4. Calculating Interest Rates** - Solve for the unknown interest rate in each of the following:"
   ]
  },
  {
   "cell_type": "code",
   "execution_count": null,
   "id": "a40e6cd6-5eeb-4477-9add-874fb72f4f6b",
   "metadata": {},
   "outputs": [],
   "source": [
    "\"\"\"\n",
    "Years    Present_Value    Future Value\n",
    "  2            242           307\n",
    "  9            410           896\n",
    " 15           51,700       162,181\n",
    " 30           18,750       483,500\n",
    "\"\"\""
   ]
  },
  {
   "cell_type": "code",
   "execution_count": 32,
   "id": "900d7c52-1155-4fcb-a4a1-6bd222187151",
   "metadata": {},
   "outputs": [
    {
     "data": {
      "text/html": [
       "<style type=\"text/css\">\n",
       "#T_4d6c4_row0_col0, #T_4d6c4_row0_col1, #T_4d6c4_row0_col2, #T_4d6c4_row0_col3, #T_4d6c4_row1_col0, #T_4d6c4_row1_col1, #T_4d6c4_row1_col2, #T_4d6c4_row1_col3, #T_4d6c4_row2_col0, #T_4d6c4_row2_col1, #T_4d6c4_row2_col2, #T_4d6c4_row2_col3, #T_4d6c4_row3_col0, #T_4d6c4_row3_col1, #T_4d6c4_row3_col2, #T_4d6c4_row3_col3 {\n",
       "  text-align: center;\n",
       "}\n",
       "</style>\n",
       "<table id=\"T_4d6c4\">\n",
       "  <thead>\n",
       "    <tr>\n",
       "      <th class=\"blank level0\" >&nbsp;</th>\n",
       "      <th id=\"T_4d6c4_level0_col0\" class=\"col_heading level0 col0\" >Years</th>\n",
       "      <th id=\"T_4d6c4_level0_col1\" class=\"col_heading level0 col1\" >Present_Value</th>\n",
       "      <th id=\"T_4d6c4_level0_col2\" class=\"col_heading level0 col2\" >Future_Value</th>\n",
       "      <th id=\"T_4d6c4_level0_col3\" class=\"col_heading level0 col3\" >Rate</th>\n",
       "    </tr>\n",
       "  </thead>\n",
       "  <tbody>\n",
       "    <tr>\n",
       "      <th id=\"T_4d6c4_level0_row0\" class=\"row_heading level0 row0\" >0</th>\n",
       "      <td id=\"T_4d6c4_row0_col0\" class=\"data row0 col0\" >2</td>\n",
       "      <td id=\"T_4d6c4_row0_col1\" class=\"data row0 col1\" >-242</td>\n",
       "      <td id=\"T_4d6c4_row0_col2\" class=\"data row0 col2\" >307</td>\n",
       "      <td id=\"T_4d6c4_row0_col3\" class=\"data row0 col3\" >12.63%</td>\n",
       "    </tr>\n",
       "    <tr>\n",
       "      <th id=\"T_4d6c4_level0_row1\" class=\"row_heading level0 row1\" >1</th>\n",
       "      <td id=\"T_4d6c4_row1_col0\" class=\"data row1 col0\" >9</td>\n",
       "      <td id=\"T_4d6c4_row1_col1\" class=\"data row1 col1\" >-410</td>\n",
       "      <td id=\"T_4d6c4_row1_col2\" class=\"data row1 col2\" >896</td>\n",
       "      <td id=\"T_4d6c4_row1_col3\" class=\"data row1 col3\" >9.07%</td>\n",
       "    </tr>\n",
       "    <tr>\n",
       "      <th id=\"T_4d6c4_level0_row2\" class=\"row_heading level0 row2\" >2</th>\n",
       "      <td id=\"T_4d6c4_row2_col0\" class=\"data row2 col0\" >15</td>\n",
       "      <td id=\"T_4d6c4_row2_col1\" class=\"data row2 col1\" >-51,700</td>\n",
       "      <td id=\"T_4d6c4_row2_col2\" class=\"data row2 col2\" >162,181</td>\n",
       "      <td id=\"T_4d6c4_row2_col3\" class=\"data row2 col3\" >7.92%</td>\n",
       "    </tr>\n",
       "    <tr>\n",
       "      <th id=\"T_4d6c4_level0_row3\" class=\"row_heading level0 row3\" >3</th>\n",
       "      <td id=\"T_4d6c4_row3_col0\" class=\"data row3 col0\" >30</td>\n",
       "      <td id=\"T_4d6c4_row3_col1\" class=\"data row3 col1\" >-18,750</td>\n",
       "      <td id=\"T_4d6c4_row3_col2\" class=\"data row3 col2\" >483,500</td>\n",
       "      <td id=\"T_4d6c4_row3_col3\" class=\"data row3 col3\" >11.44%</td>\n",
       "    </tr>\n",
       "  </tbody>\n",
       "</table>\n"
      ],
      "text/plain": [
       "<pandas.io.formats.style.Styler at 0x7f7b0d6d8810>"
      ]
     },
     "execution_count": 32,
     "metadata": {},
     "output_type": "execute_result"
    }
   ],
   "source": [
    "#Read data\n",
    "df = pd.DataFrame([[2, -242, 307],\n",
    "                  [9, -410, 896],\n",
    "                  [15, -51700, 162181],\n",
    "                  [30, -18750, 483500]],\n",
    "                 columns = (\"Years\", \"Present_Value\", \"Future_Value\"))\n",
    "\n",
    "# Solve for the interest rate\n",
    "df[\"Rate\"] = df.apply(lambda row: npf.rate(row[\"Years\"], 0, row[\"Present_Value\"], row[\"Future_Value\"]), axis=1)\n",
    "\n",
    "#Format Data Frame Style\n",
    "df['Future_Value'] = df['Future_Value'].map('{:,.0f}'.format)\n",
    "df['Present_Value'] = df['Present_Value'].map('{:,.0f}'.format)\n",
    "df['Rate'] = df['Rate'].map('{:.2%}'.format)\n",
    "df = df.style.set_properties(**{'text-align': 'center'})\n",
    "df"
   ]
  },
  {
   "cell_type": "code",
   "execution_count": null,
   "id": "13b6cc63-1dbd-48d9-930f-15a6e136e961",
   "metadata": {},
   "outputs": [],
   "source": []
  },
  {
   "cell_type": "markdown",
   "id": "014d8473-8424-483a-b6be-445092a39d93",
   "metadata": {},
   "source": [
    "**5. Calculating the Number of Periods** - Solve for the unknown number of years in each of the following:"
   ]
  },
  {
   "cell_type": "code",
   "execution_count": null,
   "id": "564694e3-886b-4d2e-add8-56040f0aa8f0",
   "metadata": {},
   "outputs": [],
   "source": [
    "\"\"\"\n",
    "Present Value    Interest Rate    Future Value     \n",
    "     625              6%              1,284\n",
    "     810              13%             4,341\n",
    "    18,400            32%            402,662\n",
    "    21,500            16%            173,439\n",
    "\"\"\""
   ]
  },
  {
   "cell_type": "code",
   "execution_count": 43,
   "id": "20321626-f29d-4c9a-b350-bcdf630e96ce",
   "metadata": {},
   "outputs": [
    {
     "data": {
      "text/html": [
       "<style type=\"text/css\">\n",
       "#T_c8ab4_row0_col0, #T_c8ab4_row0_col1, #T_c8ab4_row0_col2, #T_c8ab4_row0_col3, #T_c8ab4_row1_col0, #T_c8ab4_row1_col1, #T_c8ab4_row1_col2, #T_c8ab4_row1_col3, #T_c8ab4_row2_col0, #T_c8ab4_row2_col1, #T_c8ab4_row2_col2, #T_c8ab4_row2_col3, #T_c8ab4_row3_col0, #T_c8ab4_row3_col1, #T_c8ab4_row3_col2, #T_c8ab4_row3_col3 {\n",
       "  text-align: center;\n",
       "}\n",
       "</style>\n",
       "<table id=\"T_c8ab4\">\n",
       "  <thead>\n",
       "    <tr>\n",
       "      <th class=\"blank level0\" >&nbsp;</th>\n",
       "      <th id=\"T_c8ab4_level0_col0\" class=\"col_heading level0 col0\" >Present_Value</th>\n",
       "      <th id=\"T_c8ab4_level0_col1\" class=\"col_heading level0 col1\" >Rate</th>\n",
       "      <th id=\"T_c8ab4_level0_col2\" class=\"col_heading level0 col2\" >Future_Value</th>\n",
       "      <th id=\"T_c8ab4_level0_col3\" class=\"col_heading level0 col3\" >Years</th>\n",
       "    </tr>\n",
       "  </thead>\n",
       "  <tbody>\n",
       "    <tr>\n",
       "      <th id=\"T_c8ab4_level0_row0\" class=\"row_heading level0 row0\" >0</th>\n",
       "      <td id=\"T_c8ab4_row0_col0\" class=\"data row0 col0\" >-625</td>\n",
       "      <td id=\"T_c8ab4_row0_col1\" class=\"data row0 col1\" >6.00%</td>\n",
       "      <td id=\"T_c8ab4_row0_col2\" class=\"data row0 col2\" >1,284</td>\n",
       "      <td id=\"T_c8ab4_row0_col3\" class=\"data row0 col3\" >12.36</td>\n",
       "    </tr>\n",
       "    <tr>\n",
       "      <th id=\"T_c8ab4_level0_row1\" class=\"row_heading level0 row1\" >1</th>\n",
       "      <td id=\"T_c8ab4_row1_col0\" class=\"data row1 col0\" >-810</td>\n",
       "      <td id=\"T_c8ab4_row1_col1\" class=\"data row1 col1\" >13.00%</td>\n",
       "      <td id=\"T_c8ab4_row1_col2\" class=\"data row1 col2\" >4,341</td>\n",
       "      <td id=\"T_c8ab4_row1_col3\" class=\"data row1 col3\" >13.74</td>\n",
       "    </tr>\n",
       "    <tr>\n",
       "      <th id=\"T_c8ab4_level0_row2\" class=\"row_heading level0 row2\" >2</th>\n",
       "      <td id=\"T_c8ab4_row2_col0\" class=\"data row2 col0\" >-18,400</td>\n",
       "      <td id=\"T_c8ab4_row2_col1\" class=\"data row2 col1\" >32.00%</td>\n",
       "      <td id=\"T_c8ab4_row2_col2\" class=\"data row2 col2\" >402,662</td>\n",
       "      <td id=\"T_c8ab4_row2_col3\" class=\"data row2 col3\" >11.11</td>\n",
       "    </tr>\n",
       "    <tr>\n",
       "      <th id=\"T_c8ab4_level0_row3\" class=\"row_heading level0 row3\" >3</th>\n",
       "      <td id=\"T_c8ab4_row3_col0\" class=\"data row3 col0\" >-21,500</td>\n",
       "      <td id=\"T_c8ab4_row3_col1\" class=\"data row3 col1\" >16.00%</td>\n",
       "      <td id=\"T_c8ab4_row3_col2\" class=\"data row3 col2\" >173,439</td>\n",
       "      <td id=\"T_c8ab4_row3_col3\" class=\"data row3 col3\" >14.07</td>\n",
       "    </tr>\n",
       "  </tbody>\n",
       "</table>\n"
      ],
      "text/plain": [
       "<pandas.io.formats.style.Styler at 0x7f7b18f569d0>"
      ]
     },
     "execution_count": 43,
     "metadata": {},
     "output_type": "execute_result"
    }
   ],
   "source": [
    "warnings.filterwarnings(\"ignore\", category=RuntimeWarning)\n",
    "\n",
    "# Read Data\n",
    "df = pd.DataFrame([[-625, .06, 1284],\n",
    "                  [-810, .13, 4341],\n",
    "                  [-18400, .32, 402662],\n",
    "                  [-21500, .16, 173439]],\n",
    "                 columns = (\"Present_Value\", \"Rate\", \"Future_Value\"))\n",
    "\n",
    "#Solve for the years\n",
    "df[\"Years\"] = df.apply(lambda row: npf.nper(row[\"Rate\"], 0, row[\"Present_Value\"], row[\"Future_Value\"]), axis=1)\n",
    "\n",
    "#Format Data Frame Style\n",
    "df['Future_Value'] = df['Future_Value'].map('{:,.0f}'.format)\n",
    "df['Present_Value'] = df['Present_Value'].map('{:,.0f}'.format)\n",
    "df['Years'] = df['Years'].map('{:,.2f}'.format)\n",
    "df['Rate'] = df['Rate'].map('{:.2%}'.format)\n",
    "df = df.style.set_properties(**{'text-align': 'center'})\n",
    "df"
   ]
  },
  {
   "cell_type": "code",
   "execution_count": null,
   "id": "03560fda-27f6-450f-ae43-9832f5aa024b",
   "metadata": {},
   "outputs": [],
   "source": []
  },
  {
   "cell_type": "markdown",
   "id": "fe815f0c-a74a-46ea-98cc-4ff5d5b900c9",
   "metadata": {},
   "source": [
    "**7. Calculating Present Values** - Imprudential Inc., has an unfunded pension liability of 750 million that must be paid in 20 years.  To assess the value of the firm's stock, financial analysts want to discount this liability back to the present.  If the relevant discount rate is 8.2 percent, what is the present value of this liability."
   ]
  },
  {
   "cell_type": "code",
   "execution_count": 48,
   "id": "343784b3-d9ae-4871-9557-9cc0a2d78141",
   "metadata": {},
   "outputs": [
    {
     "data": {
      "text/plain": [
       "'The present value of the liability is $155,065,808.54'"
      ]
     },
     "execution_count": 48,
     "metadata": {},
     "output_type": "execute_result"
    }
   ],
   "source": [
    "#Given\n",
    "liability = 750000000\n",
    "years = 20\n",
    "rate = .082\n",
    "\n",
    "#The present value function was defined at the beginning of the file.\n",
    "present_value = present_value_amount(liability, rate, years)\n",
    "\n",
    "answer = f'The present value of the liability is ${present_value:,.2f}'\n",
    "answer"
   ]
  },
  {
   "cell_type": "code",
   "execution_count": null,
   "id": "faa866b6-c36a-432d-8738-8a5f335c3c6d",
   "metadata": {},
   "outputs": [],
   "source": []
  }
 ],
 "metadata": {
  "kernelspec": {
   "display_name": "Python 3 (ipykernel)",
   "language": "python",
   "name": "python3"
  },
  "language_info": {
   "codemirror_mode": {
    "name": "ipython",
    "version": 3
   },
   "file_extension": ".py",
   "mimetype": "text/x-python",
   "name": "python",
   "nbconvert_exporter": "python",
   "pygments_lexer": "ipython3",
   "version": "3.11.8"
  }
 },
 "nbformat": 4,
 "nbformat_minor": 5
}
