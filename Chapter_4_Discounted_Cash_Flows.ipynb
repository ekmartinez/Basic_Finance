{
 "cells": [
  {
   "cell_type": "markdown",
   "id": "54713545-b2f6-4032-b54b-b38f2334c4f5",
   "metadata": {},
   "source": [
    "# Chapter 4 - Discounted Cash Flow Valuation"
   ]
  },
  {
   "cell_type": "markdown",
   "id": "790e1794-7498-454e-93c8-94b87507ae80",
   "metadata": {},
   "source": [
    "**Selected Exercises**\n",
    "\n",
    "Corporate Finance 9th International Edition\n",
    "\n",
    "Ross, Westerfield, Jaffe"
   ]
  },
  {
   "cell_type": "code",
   "execution_count": 1,
   "id": "94d6e531-2549-43a5-ab7d-f314047a9ea0",
   "metadata": {},
   "outputs": [],
   "source": [
    "import warnings\n",
    "import pandas as pd\n",
    "import numpy_financial as npf\n",
    "\n",
    "# Lets define some functions so we can reuse them later.\n",
    "\n",
    "def present_value_amount(amount, rate, periods):\n",
    "    \"\"\"Returns the present value of $1\"\"\"\n",
    "    pv_fact = 1 / (1 + rate)**(periods)\n",
    "    \n",
    "    return pv_fact * amount\n",
    "\n",
    "def annuityPVFactor(payment, rate, periods):\n",
    "    \"\"\"Return the Present Value Factor of an Ordinary Annuity\"\"\"\n",
    "    \n",
    "    annPVFactor = (1 - (1/(1 + rate)**periods)) / rate\n",
    "    \n",
    "    return annPVFactor * payment\n",
    "\n",
    "def future_value_simple(amount, rate, periods):\n",
    "    \"\"\"Returns future value with simple interest\"\"\"\n",
    "    \n",
    "    return f'{amount + (amount * interest_rate) * periods:,.2f}'\n",
    "\n",
    "def future_value_compounded(amount, rate, periods):\n",
    "    \"\"\"Returns future value with compounding interest\"\"\"\n",
    "    \n",
    "    return f'{amount * (1 + rate) ** periods:,.2f}'\n",
    "\n",
    "def perpetuity(pmt, rate):\n",
    "    \"\"\"Return the value of a constant perpetuity\"\"\"\n",
    "    \n",
    "    return pmt / rate\n",
    "\n",
    "def continuousFV(present_value, rate, years):\n",
    "    \"\"\"Returns the Future Value using continuous compounding\"\"\"\n",
    "    \n",
    "    e = 2.718\n",
    "    contFV = present_value * (e ** (rate * years))\n",
    "    \n",
    "    return contFV\n",
    "\n",
    "def higher_pv(x, y):\n",
    "    \"\"\"Evaluates which investment is higher\"\"\"\n",
    "    \n",
    "    if x > y:\n",
    "        return \"X\"\n",
    "    else:\n",
    "        return \"Y\"\n",
    "        \n",
    "    "
   ]
  },
  {
   "cell_type": "markdown",
   "id": "a701552f-d28d-4bb2-aa23-200edc9c14a7",
   "metadata": {},
   "source": [
    "**1. Simple vs Compound Interest** - First City Bank pays 9 percent simple interest on its savings account balances, whereas Second City Bank pays 9 percent interest compounded annually.  If you made a a 5,000 deposit in each bank, how much more money would you earn from your Second City Bank account at the end of 10 years?"
   ]
  },
  {
   "cell_type": "code",
   "execution_count": 18,
   "id": "b6ad521c-911a-4ed4-a477-afe3de6a695e",
   "metadata": {},
   "outputs": [
    {
     "data": {
      "text/html": [
       "<style type=\"text/css\">\n",
       "#T_62b11_row0_col0, #T_62b11_row0_col1 {\n",
       "  text-align: center;\n",
       "}\n",
       "</style>\n",
       "<table id=\"T_62b11\">\n",
       "  <thead>\n",
       "    <tr>\n",
       "      <th class=\"blank level0\" >&nbsp;</th>\n",
       "      <th id=\"T_62b11_level0_col0\" class=\"col_heading level0 col0\" >First Bank</th>\n",
       "      <th id=\"T_62b11_level0_col1\" class=\"col_heading level0 col1\" >Second Bank</th>\n",
       "    </tr>\n",
       "  </thead>\n",
       "  <tbody>\n",
       "    <tr>\n",
       "      <th id=\"T_62b11_level0_row0\" class=\"row_heading level0 row0\" >0</th>\n",
       "      <td id=\"T_62b11_row0_col0\" class=\"data row0 col0\" >9,500.00</td>\n",
       "      <td id=\"T_62b11_row0_col1\" class=\"data row0 col1\" >11,836.82</td>\n",
       "    </tr>\n",
       "  </tbody>\n",
       "</table>\n"
      ],
      "text/plain": [
       "<pandas.io.formats.style.Styler at 0x7f7b0d441690>"
      ]
     },
     "execution_count": 18,
     "metadata": {},
     "output_type": "execute_result"
    }
   ],
   "source": [
    "interest_rate = .09\n",
    "deposit = 5000\n",
    "periods = 10\n",
    "\n",
    "First_Bank = future_value_simple(deposit, interest_rate, periods)\n",
    "Second_Bank = future_value_compounded(deposit, interest_rate, periods)\n",
    "\n",
    "df = pd.DataFrame([[First_Bank, Second_Bank]],\n",
    "                 columns = (\"First Bank\",\"Second Bank\"))\n",
    "\n",
    "df = df.style.set_properties(**{'text-align': 'center'})\n",
    "df"
   ]
  },
  {
   "cell_type": "code",
   "execution_count": null,
   "id": "f73698bf-7f7c-4e52-b4bb-97b8e9c239a3",
   "metadata": {},
   "outputs": [],
   "source": []
  },
  {
   "cell_type": "markdown",
   "id": "324b582e-158e-4dfb-b8e1-f13bacec16a1",
   "metadata": {},
   "source": [
    "**2. Calculating Future Values** - Compute the future value of 1,000 compounded annually for: \n",
    "\n",
    "* a. 10 years at 6 percent\n",
    "* b. 10 years at 9 percent\n",
    "* c. 20 years at 6 percent"
   ]
  },
  {
   "cell_type": "code",
   "execution_count": 19,
   "id": "7942b73f-c32b-4cde-9caf-de1694c2296b",
   "metadata": {},
   "outputs": [
    {
     "data": {
      "text/html": [
       "<style type=\"text/css\">\n",
       "#T_49eb6_row0_col0, #T_49eb6_row0_col1, #T_49eb6_row0_col2, #T_49eb6_row0_col3, #T_49eb6_row1_col0, #T_49eb6_row1_col1, #T_49eb6_row1_col2, #T_49eb6_row1_col3, #T_49eb6_row2_col0, #T_49eb6_row2_col1, #T_49eb6_row2_col2, #T_49eb6_row2_col3 {\n",
       "  text-align: center;\n",
       "}\n",
       "</style>\n",
       "<table id=\"T_49eb6\">\n",
       "  <thead>\n",
       "    <tr>\n",
       "      <th class=\"blank level0\" >&nbsp;</th>\n",
       "      <th id=\"T_49eb6_level0_col0\" class=\"col_heading level0 col0\" >Amount</th>\n",
       "      <th id=\"T_49eb6_level0_col1\" class=\"col_heading level0 col1\" >Periods</th>\n",
       "      <th id=\"T_49eb6_level0_col2\" class=\"col_heading level0 col2\" >Rate</th>\n",
       "      <th id=\"T_49eb6_level0_col3\" class=\"col_heading level0 col3\" >Answer</th>\n",
       "    </tr>\n",
       "  </thead>\n",
       "  <tbody>\n",
       "    <tr>\n",
       "      <th id=\"T_49eb6_level0_row0\" class=\"row_heading level0 row0\" >0</th>\n",
       "      <td id=\"T_49eb6_row0_col0\" class=\"data row0 col0\" >1,000</td>\n",
       "      <td id=\"T_49eb6_row0_col1\" class=\"data row0 col1\" >10</td>\n",
       "      <td id=\"T_49eb6_row0_col2\" class=\"data row0 col2\" >6.00%</td>\n",
       "      <td id=\"T_49eb6_row0_col3\" class=\"data row0 col3\" >1,790.85</td>\n",
       "    </tr>\n",
       "    <tr>\n",
       "      <th id=\"T_49eb6_level0_row1\" class=\"row_heading level0 row1\" >1</th>\n",
       "      <td id=\"T_49eb6_row1_col0\" class=\"data row1 col0\" >1,000</td>\n",
       "      <td id=\"T_49eb6_row1_col1\" class=\"data row1 col1\" >10</td>\n",
       "      <td id=\"T_49eb6_row1_col2\" class=\"data row1 col2\" >9.00%</td>\n",
       "      <td id=\"T_49eb6_row1_col3\" class=\"data row1 col3\" >2,367.36</td>\n",
       "    </tr>\n",
       "    <tr>\n",
       "      <th id=\"T_49eb6_level0_row2\" class=\"row_heading level0 row2\" >2</th>\n",
       "      <td id=\"T_49eb6_row2_col0\" class=\"data row2 col0\" >1,000</td>\n",
       "      <td id=\"T_49eb6_row2_col1\" class=\"data row2 col1\" >20</td>\n",
       "      <td id=\"T_49eb6_row2_col2\" class=\"data row2 col2\" >6.00%</td>\n",
       "      <td id=\"T_49eb6_row2_col3\" class=\"data row2 col3\" >3,207.14</td>\n",
       "    </tr>\n",
       "  </tbody>\n",
       "</table>\n"
      ],
      "text/plain": [
       "<pandas.io.formats.style.Styler at 0x7f7b0d7e2610>"
      ]
     },
     "execution_count": 19,
     "metadata": {},
     "output_type": "execute_result"
    }
   ],
   "source": [
    "#Read data\n",
    "df = pd.DataFrame([[1000, 10, .06],\n",
    "                    [1000, 10, .09],\n",
    "                    [1000, 20, .06]],\n",
    "                    columns=(\"Amount\", \"Periods\", \"Rate\"))\n",
    "\n",
    "#Apply Future Value function\n",
    "df['Answer'] = df.apply(lambda row: future_value_compounded(row['Amount'], row['Rate'], row['Periods']), axis=1)\n",
    "\n",
    "#Format Data Frame Style\n",
    "df['Amount'] = df['Amount'].map('{:,.0f}'.format)\n",
    "df['Rate'] = df['Rate'].map('{:.2%}'.format)\n",
    "df = df.style.set_properties(**{'text-align': 'center'})\n",
    "df"
   ]
  },
  {
   "cell_type": "code",
   "execution_count": null,
   "id": "51566c38-b245-48fe-839f-1eb7193c6135",
   "metadata": {},
   "outputs": [],
   "source": []
  },
  {
   "cell_type": "markdown",
   "id": "826dd831-55b5-4c26-bbb8-7728c95c6c5d",
   "metadata": {},
   "source": [
    "**3. Calculating Present Values** - For each of the following compute the present value:"
   ]
  },
  {
   "cell_type": "code",
   "execution_count": null,
   "id": "b5c2c0e4-145c-41e4-b2e2-a68010849f1e",
   "metadata": {},
   "outputs": [],
   "source": [
    "\"\"\"\n",
    "Years    Rate    Future Value\n",
    "  6       7%        15,451\n",
    "  9       15%       51,557\n",
    "  18      11%      886,073\n",
    "  23      18%      550,164\n",
    "\"\"\""
   ]
  },
  {
   "cell_type": "code",
   "execution_count": 91,
   "id": "3dd3abcb-2536-41c1-92a2-7deae41dafaf",
   "metadata": {},
   "outputs": [
    {
     "data": {
      "text/html": [
       "<style type=\"text/css\">\n",
       "#T_fb86a_row0_col0, #T_fb86a_row0_col1, #T_fb86a_row0_col2, #T_fb86a_row0_col3, #T_fb86a_row1_col0, #T_fb86a_row1_col1, #T_fb86a_row1_col2, #T_fb86a_row1_col3, #T_fb86a_row2_col0, #T_fb86a_row2_col1, #T_fb86a_row2_col2, #T_fb86a_row2_col3, #T_fb86a_row3_col0, #T_fb86a_row3_col1, #T_fb86a_row3_col2, #T_fb86a_row3_col3 {\n",
       "  text-align: center;\n",
       "}\n",
       "</style>\n",
       "<table id=\"T_fb86a\">\n",
       "  <thead>\n",
       "    <tr>\n",
       "      <th class=\"blank level0\" >&nbsp;</th>\n",
       "      <th id=\"T_fb86a_level0_col0\" class=\"col_heading level0 col0\" >Future_Value</th>\n",
       "      <th id=\"T_fb86a_level0_col1\" class=\"col_heading level0 col1\" >Years</th>\n",
       "      <th id=\"T_fb86a_level0_col2\" class=\"col_heading level0 col2\" >Rate</th>\n",
       "      <th id=\"T_fb86a_level0_col3\" class=\"col_heading level0 col3\" >Answer</th>\n",
       "    </tr>\n",
       "  </thead>\n",
       "  <tbody>\n",
       "    <tr>\n",
       "      <th id=\"T_fb86a_level0_row0\" class=\"row_heading level0 row0\" >0</th>\n",
       "      <td id=\"T_fb86a_row0_col0\" class=\"data row0 col0\" >15,541</td>\n",
       "      <td id=\"T_fb86a_row0_col1\" class=\"data row0 col1\" >6</td>\n",
       "      <td id=\"T_fb86a_row0_col2\" class=\"data row0 col2\" >7.00%</td>\n",
       "      <td id=\"T_fb86a_row0_col3\" class=\"data row0 col3\" >10,356</td>\n",
       "    </tr>\n",
       "    <tr>\n",
       "      <th id=\"T_fb86a_level0_row1\" class=\"row_heading level0 row1\" >1</th>\n",
       "      <td id=\"T_fb86a_row1_col0\" class=\"data row1 col0\" >51,557</td>\n",
       "      <td id=\"T_fb86a_row1_col1\" class=\"data row1 col1\" >9</td>\n",
       "      <td id=\"T_fb86a_row1_col2\" class=\"data row1 col2\" >15.00%</td>\n",
       "      <td id=\"T_fb86a_row1_col3\" class=\"data row1 col3\" >14,656</td>\n",
       "    </tr>\n",
       "    <tr>\n",
       "      <th id=\"T_fb86a_level0_row2\" class=\"row_heading level0 row2\" >2</th>\n",
       "      <td id=\"T_fb86a_row2_col0\" class=\"data row2 col0\" >886,076</td>\n",
       "      <td id=\"T_fb86a_row2_col1\" class=\"data row2 col1\" >18</td>\n",
       "      <td id=\"T_fb86a_row2_col2\" class=\"data row2 col2\" >11.00%</td>\n",
       "      <td id=\"T_fb86a_row2_col3\" class=\"data row2 col3\" >135,412</td>\n",
       "    </tr>\n",
       "    <tr>\n",
       "      <th id=\"T_fb86a_level0_row3\" class=\"row_heading level0 row3\" >3</th>\n",
       "      <td id=\"T_fb86a_row3_col0\" class=\"data row3 col0\" >550,164</td>\n",
       "      <td id=\"T_fb86a_row3_col1\" class=\"data row3 col1\" >23</td>\n",
       "      <td id=\"T_fb86a_row3_col2\" class=\"data row3 col2\" >18.00%</td>\n",
       "      <td id=\"T_fb86a_row3_col3\" class=\"data row3 col3\" >12,224</td>\n",
       "    </tr>\n",
       "  </tbody>\n",
       "</table>\n"
      ],
      "text/plain": [
       "<pandas.io.formats.style.Styler at 0x7f4e48c37110>"
      ]
     },
     "execution_count": 91,
     "metadata": {},
     "output_type": "execute_result"
    }
   ],
   "source": [
    "#Read data\n",
    "df = pd.DataFrame([[15541, 6, .07], \n",
    "                  [51557, 9, .15],\n",
    "                  [886076, 18, .11],\n",
    "                   [550164, 23, .18]],\n",
    "                 columns = (\"Future_Value\", \"Years\", \"Rate\"))\n",
    "\n",
    "#Apply Present Value function\n",
    "df['Answer'] = df.apply(lambda row: present_value_amount(row['Future_Value'], row['Rate'], row['Years']), axis=1)\n",
    "\n",
    "#Format Data Frame Style\n",
    "df['Future_Value'] = df['Future_Value'].map('{:,.0f}'.format)\n",
    "df['Answer'] = df['Answer'].map('{:,.0f}'.format)\n",
    "df['Rate'] = df['Rate'].map('{:.2%}'.format)\n",
    "df = df.style.set_properties(**{'text-align': 'center'})\n",
    "df"
   ]
  },
  {
   "cell_type": "code",
   "execution_count": null,
   "id": "0074861f-2470-4d00-9466-45fd5ebca9af",
   "metadata": {},
   "outputs": [],
   "source": []
  },
  {
   "cell_type": "markdown",
   "id": "1e1c15fb-14b1-47aa-bac7-e4c79160e186",
   "metadata": {},
   "source": [
    "**4. Calculating Interest Rates** - Solve for the unknown interest rate in each of the following:"
   ]
  },
  {
   "cell_type": "code",
   "execution_count": null,
   "id": "a40e6cd6-5eeb-4477-9add-874fb72f4f6b",
   "metadata": {},
   "outputs": [],
   "source": [
    "\"\"\"\n",
    "Years    Present_Value    Future Value\n",
    "  2            242           307\n",
    "  9            410           896\n",
    " 15           51,700       162,181\n",
    " 30           18,750       483,500\n",
    "\"\"\""
   ]
  },
  {
   "cell_type": "code",
   "execution_count": 92,
   "id": "900d7c52-1155-4fcb-a4a1-6bd222187151",
   "metadata": {},
   "outputs": [
    {
     "data": {
      "text/html": [
       "<style type=\"text/css\">\n",
       "#T_a0074_row0_col0, #T_a0074_row0_col1, #T_a0074_row0_col2, #T_a0074_row0_col3, #T_a0074_row1_col0, #T_a0074_row1_col1, #T_a0074_row1_col2, #T_a0074_row1_col3, #T_a0074_row2_col0, #T_a0074_row2_col1, #T_a0074_row2_col2, #T_a0074_row2_col3, #T_a0074_row3_col0, #T_a0074_row3_col1, #T_a0074_row3_col2, #T_a0074_row3_col3 {\n",
       "  text-align: center;\n",
       "}\n",
       "</style>\n",
       "<table id=\"T_a0074\">\n",
       "  <thead>\n",
       "    <tr>\n",
       "      <th class=\"blank level0\" >&nbsp;</th>\n",
       "      <th id=\"T_a0074_level0_col0\" class=\"col_heading level0 col0\" >Years</th>\n",
       "      <th id=\"T_a0074_level0_col1\" class=\"col_heading level0 col1\" >Present_Value</th>\n",
       "      <th id=\"T_a0074_level0_col2\" class=\"col_heading level0 col2\" >Future_Value</th>\n",
       "      <th id=\"T_a0074_level0_col3\" class=\"col_heading level0 col3\" >Answer</th>\n",
       "    </tr>\n",
       "  </thead>\n",
       "  <tbody>\n",
       "    <tr>\n",
       "      <th id=\"T_a0074_level0_row0\" class=\"row_heading level0 row0\" >0</th>\n",
       "      <td id=\"T_a0074_row0_col0\" class=\"data row0 col0\" >2</td>\n",
       "      <td id=\"T_a0074_row0_col1\" class=\"data row0 col1\" >-242</td>\n",
       "      <td id=\"T_a0074_row0_col2\" class=\"data row0 col2\" >307</td>\n",
       "      <td id=\"T_a0074_row0_col3\" class=\"data row0 col3\" >12.63%</td>\n",
       "    </tr>\n",
       "    <tr>\n",
       "      <th id=\"T_a0074_level0_row1\" class=\"row_heading level0 row1\" >1</th>\n",
       "      <td id=\"T_a0074_row1_col0\" class=\"data row1 col0\" >9</td>\n",
       "      <td id=\"T_a0074_row1_col1\" class=\"data row1 col1\" >-410</td>\n",
       "      <td id=\"T_a0074_row1_col2\" class=\"data row1 col2\" >896</td>\n",
       "      <td id=\"T_a0074_row1_col3\" class=\"data row1 col3\" >9.07%</td>\n",
       "    </tr>\n",
       "    <tr>\n",
       "      <th id=\"T_a0074_level0_row2\" class=\"row_heading level0 row2\" >2</th>\n",
       "      <td id=\"T_a0074_row2_col0\" class=\"data row2 col0\" >15</td>\n",
       "      <td id=\"T_a0074_row2_col1\" class=\"data row2 col1\" >-51,700</td>\n",
       "      <td id=\"T_a0074_row2_col2\" class=\"data row2 col2\" >162,181</td>\n",
       "      <td id=\"T_a0074_row2_col3\" class=\"data row2 col3\" >7.92%</td>\n",
       "    </tr>\n",
       "    <tr>\n",
       "      <th id=\"T_a0074_level0_row3\" class=\"row_heading level0 row3\" >3</th>\n",
       "      <td id=\"T_a0074_row3_col0\" class=\"data row3 col0\" >30</td>\n",
       "      <td id=\"T_a0074_row3_col1\" class=\"data row3 col1\" >-18,750</td>\n",
       "      <td id=\"T_a0074_row3_col2\" class=\"data row3 col2\" >483,500</td>\n",
       "      <td id=\"T_a0074_row3_col3\" class=\"data row3 col3\" >11.44%</td>\n",
       "    </tr>\n",
       "  </tbody>\n",
       "</table>\n"
      ],
      "text/plain": [
       "<pandas.io.formats.style.Styler at 0x7f4e48ec9650>"
      ]
     },
     "execution_count": 92,
     "metadata": {},
     "output_type": "execute_result"
    }
   ],
   "source": [
    "#Read data\n",
    "df = pd.DataFrame([[2, -242, 307],\n",
    "                  [9, -410, 896],\n",
    "                  [15, -51700, 162181],\n",
    "                  [30, -18750, 483500]],\n",
    "                 columns = (\"Years\", \"Present_Value\", \"Future_Value\"))\n",
    "\n",
    "# Solve for the interest rate\n",
    "df[\"Answer\"] = df.apply(lambda row: npf.rate(row[\"Years\"], 0, \\\n",
    "                row[\"Present_Value\"], row[\"Future_Value\"]), axis=1)\n",
    "\n",
    "#Format Data Frame Style\n",
    "df['Future_Value'] = df['Future_Value'].map('{:,.0f}'.format)\n",
    "df['Present_Value'] = df['Present_Value'].map('{:,.0f}'.format)\n",
    "df['Answer'] = df['Answer'].map('{:.2%}'.format)\n",
    "df = df.style.set_properties(**{'text-align': 'center'})\n",
    "df"
   ]
  },
  {
   "cell_type": "code",
   "execution_count": null,
   "id": "13b6cc63-1dbd-48d9-930f-15a6e136e961",
   "metadata": {},
   "outputs": [],
   "source": []
  },
  {
   "cell_type": "markdown",
   "id": "014d8473-8424-483a-b6be-445092a39d93",
   "metadata": {},
   "source": [
    "**5. Calculating the Number of Periods** - Solve for the unknown number of years in each of the following:"
   ]
  },
  {
   "cell_type": "code",
   "execution_count": null,
   "id": "564694e3-886b-4d2e-add8-56040f0aa8f0",
   "metadata": {},
   "outputs": [],
   "source": [
    "\"\"\"\n",
    "Present Value    Interest Rate    Future Value     \n",
    "     625              6%              1,284\n",
    "     810              13%             4,341\n",
    "    18,400            32%            402,662\n",
    "    21,500            16%            173,439\n",
    "\"\"\""
   ]
  },
  {
   "cell_type": "code",
   "execution_count": 93,
   "id": "20321626-f29d-4c9a-b350-bcdf630e96ce",
   "metadata": {},
   "outputs": [
    {
     "data": {
      "text/html": [
       "<style type=\"text/css\">\n",
       "#T_8ce21_row0_col0, #T_8ce21_row0_col1, #T_8ce21_row0_col2, #T_8ce21_row0_col3, #T_8ce21_row1_col0, #T_8ce21_row1_col1, #T_8ce21_row1_col2, #T_8ce21_row1_col3, #T_8ce21_row2_col0, #T_8ce21_row2_col1, #T_8ce21_row2_col2, #T_8ce21_row2_col3, #T_8ce21_row3_col0, #T_8ce21_row3_col1, #T_8ce21_row3_col2, #T_8ce21_row3_col3 {\n",
       "  text-align: center;\n",
       "}\n",
       "</style>\n",
       "<table id=\"T_8ce21\">\n",
       "  <thead>\n",
       "    <tr>\n",
       "      <th class=\"blank level0\" >&nbsp;</th>\n",
       "      <th id=\"T_8ce21_level0_col0\" class=\"col_heading level0 col0\" >Present_Value</th>\n",
       "      <th id=\"T_8ce21_level0_col1\" class=\"col_heading level0 col1\" >Rate</th>\n",
       "      <th id=\"T_8ce21_level0_col2\" class=\"col_heading level0 col2\" >Future_Value</th>\n",
       "      <th id=\"T_8ce21_level0_col3\" class=\"col_heading level0 col3\" >Answer</th>\n",
       "    </tr>\n",
       "  </thead>\n",
       "  <tbody>\n",
       "    <tr>\n",
       "      <th id=\"T_8ce21_level0_row0\" class=\"row_heading level0 row0\" >0</th>\n",
       "      <td id=\"T_8ce21_row0_col0\" class=\"data row0 col0\" >-625</td>\n",
       "      <td id=\"T_8ce21_row0_col1\" class=\"data row0 col1\" >6.00%</td>\n",
       "      <td id=\"T_8ce21_row0_col2\" class=\"data row0 col2\" >1,284</td>\n",
       "      <td id=\"T_8ce21_row0_col3\" class=\"data row0 col3\" >12.36</td>\n",
       "    </tr>\n",
       "    <tr>\n",
       "      <th id=\"T_8ce21_level0_row1\" class=\"row_heading level0 row1\" >1</th>\n",
       "      <td id=\"T_8ce21_row1_col0\" class=\"data row1 col0\" >-810</td>\n",
       "      <td id=\"T_8ce21_row1_col1\" class=\"data row1 col1\" >13.00%</td>\n",
       "      <td id=\"T_8ce21_row1_col2\" class=\"data row1 col2\" >4,341</td>\n",
       "      <td id=\"T_8ce21_row1_col3\" class=\"data row1 col3\" >13.74</td>\n",
       "    </tr>\n",
       "    <tr>\n",
       "      <th id=\"T_8ce21_level0_row2\" class=\"row_heading level0 row2\" >2</th>\n",
       "      <td id=\"T_8ce21_row2_col0\" class=\"data row2 col0\" >-18,400</td>\n",
       "      <td id=\"T_8ce21_row2_col1\" class=\"data row2 col1\" >32.00%</td>\n",
       "      <td id=\"T_8ce21_row2_col2\" class=\"data row2 col2\" >402,662</td>\n",
       "      <td id=\"T_8ce21_row2_col3\" class=\"data row2 col3\" >11.11</td>\n",
       "    </tr>\n",
       "    <tr>\n",
       "      <th id=\"T_8ce21_level0_row3\" class=\"row_heading level0 row3\" >3</th>\n",
       "      <td id=\"T_8ce21_row3_col0\" class=\"data row3 col0\" >-21,500</td>\n",
       "      <td id=\"T_8ce21_row3_col1\" class=\"data row3 col1\" >16.00%</td>\n",
       "      <td id=\"T_8ce21_row3_col2\" class=\"data row3 col2\" >173,439</td>\n",
       "      <td id=\"T_8ce21_row3_col3\" class=\"data row3 col3\" >14.07</td>\n",
       "    </tr>\n",
       "  </tbody>\n",
       "</table>\n"
      ],
      "text/plain": [
       "<pandas.io.formats.style.Styler at 0x7f4e548d5910>"
      ]
     },
     "execution_count": 93,
     "metadata": {},
     "output_type": "execute_result"
    }
   ],
   "source": [
    "warnings.filterwarnings(\"ignore\", category=RuntimeWarning)\n",
    "\n",
    "# Read Data\n",
    "df = pd.DataFrame([[-625, .06, 1284],\n",
    "                  [-810, .13, 4341],\n",
    "                  [-18400, .32, 402662],\n",
    "                  [-21500, .16, 173439]],\n",
    "                 columns = (\"Present_Value\", \"Rate\", \"Future_Value\"))\n",
    "\n",
    "#Solve for the years\n",
    "df[\"Answer\"] = df.apply(lambda row: npf.nper(row[\"Rate\"], 0, \\\n",
    "                row[\"Present_Value\"], row[\"Future_Value\"]), axis=1)\n",
    "\n",
    "#Format Data Frame Style\n",
    "df['Future_Value'] = df['Future_Value'].map('{:,.0f}'.format)\n",
    "df['Present_Value'] = df['Present_Value'].map('{:,.0f}'.format)\n",
    "df['Answer'] = df['Answer'].map('{:,.2f}'.format)\n",
    "df['Rate'] = df['Rate'].map('{:.2%}'.format)\n",
    "df = df.style.set_properties(**{'text-align': 'center'})\n",
    "df"
   ]
  },
  {
   "cell_type": "code",
   "execution_count": null,
   "id": "03560fda-27f6-450f-ae43-9832f5aa024b",
   "metadata": {},
   "outputs": [],
   "source": []
  },
  {
   "cell_type": "markdown",
   "id": "fe815f0c-a74a-46ea-98cc-4ff5d5b900c9",
   "metadata": {},
   "source": [
    "**7. Calculating Present Values** - Imprudential Inc., has an unfunded pension liability of 750 million that must be paid in 20 years.  To assess the value of the firm's stock, financial analysts want to discount this liability back to the present.  If the relevant discount rate is 8.2 percent, what is the present value of this liability."
   ]
  },
  {
   "cell_type": "code",
   "execution_count": 49,
   "id": "343784b3-d9ae-4871-9557-9cc0a2d78141",
   "metadata": {},
   "outputs": [
    {
     "data": {
      "text/plain": [
       "'The present value of the liability is $155,065,808.54'"
      ]
     },
     "execution_count": 49,
     "metadata": {},
     "output_type": "execute_result"
    }
   ],
   "source": [
    "#Given\n",
    "liability = 750000000\n",
    "years = 20\n",
    "rate = 8.2\n",
    "\n",
    "#The present value function was defined at the beginning of the file.\n",
    "present_value = present_value_amount(liability, rate / 100, years)\n",
    "\n",
    "answer = f'The present value of the liability is ${present_value:,.2f}'\n",
    "answer"
   ]
  },
  {
   "cell_type": "code",
   "execution_count": null,
   "id": "faa866b6-c36a-432d-8738-8a5f335c3c6d",
   "metadata": {},
   "outputs": [],
   "source": []
  },
  {
   "cell_type": "markdown",
   "id": "17d01188-3324-49b3-8760-92aec739ea1d",
   "metadata": {},
   "source": [
    "**8. Calculating Rates of Return** - Although applealing to more refined tastes, art as a collectible has not always performed so profitably.  During 2003, Sotheby's sold the Edgar Degas bronze sculpture *Petite Danseuse de Quartorze Ans* at auction for a price of 10,311,500.  Unfortunately for the previous owner, he had purchased it in 1999 at a price of 12,377,500. What was his annual rate of return on this sculpture?"
   ]
  },
  {
   "cell_type": "code",
   "execution_count": 8,
   "id": "8229c9f1-06ed-4a17-bfb7-7b2178c320af",
   "metadata": {},
   "outputs": [
    {
     "data": {
      "text/plain": [
       "'His annual rate of return on the sale of the sculpture was -4.46%'"
      ]
     },
     "execution_count": 8,
     "metadata": {},
     "output_type": "execute_result"
    }
   ],
   "source": [
    "# Given\n",
    "years = 2003 - 1999\n",
    "present_value = -12377500\n",
    "future_value = 10311500\n",
    "\n",
    "#We need to solve for rate:\n",
    "rate = npf.rate(years, 0, present_value, future_value) * 100\n",
    "\n",
    "answer = f'His annual rate of return on the sale of the sculpture was {rate:.2f}%'\n",
    "answer"
   ]
  },
  {
   "cell_type": "code",
   "execution_count": null,
   "id": "1db6a516-006e-43c5-b420-f620185a94aa",
   "metadata": {},
   "outputs": [],
   "source": []
  },
  {
   "cell_type": "markdown",
   "id": "325c1fad-635c-4c80-9cf6-48a9349f32d8",
   "metadata": {},
   "source": [
    "**9. Perpetuities** - An investor purchasing a British consol is entitled to receive annual payments from the British government forever.  What is the price of a consol that pays 120 annually if the next payment occurs one year from today?  The market interest is rate is 5.7 percent."
   ]
  },
  {
   "cell_type": "code",
   "execution_count": 14,
   "id": "e58e1a8f-94e0-45ec-8df3-9e091fca16da",
   "metadata": {},
   "outputs": [
    {
     "data": {
      "text/plain": [
       "'The price of the console is 2,105.26'"
      ]
     },
     "execution_count": 14,
     "metadata": {},
     "output_type": "execute_result"
    }
   ],
   "source": [
    "#Given\n",
    "payments = 120\n",
    "rate = 5.7\n",
    "\n",
    "#We use the perpetuity function defined at the beginning\n",
    "price = perpetuity(payments, rate / 100)\n",
    "\n",
    "answer = f'The price of the console is {price:,.2f}'\n",
    "answer\n"
   ]
  },
  {
   "cell_type": "code",
   "execution_count": null,
   "id": "5ad9af8b-afb6-4751-80eb-274611b12261",
   "metadata": {},
   "outputs": [],
   "source": []
  },
  {
   "cell_type": "markdown",
   "id": "291bc1c2-00d2-4c95-9ab9-b9aeaca8fd86",
   "metadata": {},
   "source": [
    "**10. Continuous Compounding** - Compute the future value fo 1,900 continuously compounded for:\n",
    "\n",
    "* a. 5 years at a stated annual interest rate of 12 percent.\n",
    "* b. 3 years at a stated annual interest rate of 10 percent.\n",
    "* c. 10 years at a stated annual interest rate of 5 percent.\n",
    "* d. 8 years at a stated annual interest rate of 7 percent."
   ]
  },
  {
   "cell_type": "code",
   "execution_count": 95,
   "id": "092dfcb4-65df-49ef-b615-79676d7e536e",
   "metadata": {},
   "outputs": [
    {
     "data": {
      "text/html": [
       "<style type=\"text/css\">\n",
       "#T_c75a3_row0_col0, #T_c75a3_row0_col1, #T_c75a3_row0_col2, #T_c75a3_row0_col3, #T_c75a3_row1_col0, #T_c75a3_row1_col1, #T_c75a3_row1_col2, #T_c75a3_row1_col3, #T_c75a3_row2_col0, #T_c75a3_row2_col1, #T_c75a3_row2_col2, #T_c75a3_row2_col3, #T_c75a3_row3_col0, #T_c75a3_row3_col1, #T_c75a3_row3_col2, #T_c75a3_row3_col3 {\n",
       "  text-align: center;\n",
       "}\n",
       "</style>\n",
       "<table id=\"T_c75a3\">\n",
       "  <thead>\n",
       "    <tr>\n",
       "      <th class=\"blank level0\" >&nbsp;</th>\n",
       "      <th id=\"T_c75a3_level0_col0\" class=\"col_heading level0 col0\" >Present_Value</th>\n",
       "      <th id=\"T_c75a3_level0_col1\" class=\"col_heading level0 col1\" >Years</th>\n",
       "      <th id=\"T_c75a3_level0_col2\" class=\"col_heading level0 col2\" >Rate</th>\n",
       "      <th id=\"T_c75a3_level0_col3\" class=\"col_heading level0 col3\" >Answer</th>\n",
       "    </tr>\n",
       "  </thead>\n",
       "  <tbody>\n",
       "    <tr>\n",
       "      <th id=\"T_c75a3_level0_row0\" class=\"row_heading level0 row0\" >0</th>\n",
       "      <td id=\"T_c75a3_row0_col0\" class=\"data row0 col0\" >1,900</td>\n",
       "      <td id=\"T_c75a3_row0_col1\" class=\"data row0 col1\" >5</td>\n",
       "      <td id=\"T_c75a3_row0_col2\" class=\"data row0 col2\" >12.00%</td>\n",
       "      <td id=\"T_c75a3_row0_col3\" class=\"data row0 col3\" >3,462</td>\n",
       "    </tr>\n",
       "    <tr>\n",
       "      <th id=\"T_c75a3_level0_row1\" class=\"row_heading level0 row1\" >1</th>\n",
       "      <td id=\"T_c75a3_row1_col0\" class=\"data row1 col0\" >1,900</td>\n",
       "      <td id=\"T_c75a3_row1_col1\" class=\"data row1 col1\" >3</td>\n",
       "      <td id=\"T_c75a3_row1_col2\" class=\"data row1 col2\" >10.00%</td>\n",
       "      <td id=\"T_c75a3_row1_col3\" class=\"data row1 col3\" >2,565</td>\n",
       "    </tr>\n",
       "    <tr>\n",
       "      <th id=\"T_c75a3_level0_row2\" class=\"row_heading level0 row2\" >2</th>\n",
       "      <td id=\"T_c75a3_row2_col0\" class=\"data row2 col0\" >1,900</td>\n",
       "      <td id=\"T_c75a3_row2_col1\" class=\"data row2 col1\" >10</td>\n",
       "      <td id=\"T_c75a3_row2_col2\" class=\"data row2 col2\" >5.00%</td>\n",
       "      <td id=\"T_c75a3_row2_col3\" class=\"data row2 col3\" >3,132</td>\n",
       "    </tr>\n",
       "    <tr>\n",
       "      <th id=\"T_c75a3_level0_row3\" class=\"row_heading level0 row3\" >3</th>\n",
       "      <td id=\"T_c75a3_row3_col0\" class=\"data row3 col0\" >1,900</td>\n",
       "      <td id=\"T_c75a3_row3_col1\" class=\"data row3 col1\" >8</td>\n",
       "      <td id=\"T_c75a3_row3_col2\" class=\"data row3 col2\" >7.00%</td>\n",
       "      <td id=\"T_c75a3_row3_col3\" class=\"data row3 col3\" >3,326</td>\n",
       "    </tr>\n",
       "  </tbody>\n",
       "</table>\n"
      ],
      "text/plain": [
       "<pandas.io.formats.style.Styler at 0x7f4e498f0b50>"
      ]
     },
     "execution_count": 95,
     "metadata": {},
     "output_type": "execute_result"
    }
   ],
   "source": [
    "# Read data\n",
    "df = pd.DataFrame([[1900, 5, .12],\n",
    "                   [1900, 3, .10],\n",
    "                   [1900, 10, .05],\n",
    "                   [1900, 8, .07]],\n",
    "                 columns = (\"Present_Value\", \"Years\", \"Rate\"))\n",
    "\n",
    "# Compute values using function defined earlier.\n",
    "df['Answer'] = df.apply(lambda row: continuousFV(row['Present_Value'], \\\n",
    "                    row['Rate'], row['Years']), axis=1)\n",
    "\n",
    "#Format Data Frame Style\n",
    "df['Answer'] = df['Answer'].map('{:,.0f}'.format)\n",
    "df['Present_Value'] = df['Present_Value'].map('{:,.0f}'.format)\n",
    "df['Rate'] = df['Rate'].map('{:.2%}'.format)\n",
    "df = df.style.set_properties(**{'text-align': 'center'})\n",
    "df"
   ]
  },
  {
   "cell_type": "code",
   "execution_count": null,
   "id": "80261302-68a9-4e92-a21c-a283c90768bb",
   "metadata": {},
   "outputs": [],
   "source": []
  },
  {
   "cell_type": "markdown",
   "id": "2e8c0bdc-8193-4c6c-8c7a-fb12520c15f1",
   "metadata": {},
   "source": [
    "**11. Present Value and Multiple Cash Flows** - Conoly Co. has identified an investment project with the following cash flows.  If the discount rate is 10 percent, what is the present value of these cash flows?  What is the value at 18 percent?  At 24 percent?"
   ]
  },
  {
   "cell_type": "code",
   "execution_count": null,
   "id": "c8ca22b6-a095-4733-be06-aa1d7e85bb94",
   "metadata": {},
   "outputs": [],
   "source": [
    "\"\"\"\n",
    "Year     Cash Flow\n",
    "1          $1,200\n",
    "2             730\n",
    "3             965\n",
    "4           1,590\n",
    "\"\"\""
   ]
  },
  {
   "cell_type": "code",
   "execution_count": 63,
   "id": "f0a96c8a-2b01-4f5d-b4d7-7c0790062bb7",
   "metadata": {
    "scrolled": true
   },
   "outputs": [
    {
     "data": {
      "text/html": [
       "<div>\n",
       "<style scoped>\n",
       "    .dataframe tbody tr th:only-of-type {\n",
       "        vertical-align: middle;\n",
       "    }\n",
       "\n",
       "    .dataframe tbody tr th {\n",
       "        vertical-align: top;\n",
       "    }\n",
       "\n",
       "    .dataframe thead th {\n",
       "        text-align: right;\n",
       "    }\n",
       "</style>\n",
       "<table border=\"1\" class=\"dataframe\">\n",
       "  <thead>\n",
       "    <tr style=\"text-align: right;\">\n",
       "      <th></th>\n",
       "      <th>10%</th>\n",
       "      <th>18%</th>\n",
       "      <th>24%</th>\n",
       "    </tr>\n",
       "  </thead>\n",
       "  <tbody>\n",
       "    <tr>\n",
       "      <th>0</th>\n",
       "      <td>1,090.91</td>\n",
       "      <td>1,016.95</td>\n",
       "      <td>967.74</td>\n",
       "    </tr>\n",
       "    <tr>\n",
       "      <th>1</th>\n",
       "      <td>603.31</td>\n",
       "      <td>524.27</td>\n",
       "      <td>474.77</td>\n",
       "    </tr>\n",
       "    <tr>\n",
       "      <th>2</th>\n",
       "      <td>725.02</td>\n",
       "      <td>587.33</td>\n",
       "      <td>506.13</td>\n",
       "    </tr>\n",
       "    <tr>\n",
       "      <th>3</th>\n",
       "      <td>1,085.99</td>\n",
       "      <td>820.10</td>\n",
       "      <td>672.53</td>\n",
       "    </tr>\n",
       "    <tr>\n",
       "      <th>Answer</th>\n",
       "      <td>3,505.23</td>\n",
       "      <td>2,948.66</td>\n",
       "      <td>2,621.17</td>\n",
       "    </tr>\n",
       "  </tbody>\n",
       "</table>\n",
       "</div>"
      ],
      "text/plain": [
       "             10%       18%       24%\n",
       "0       1,090.91  1,016.95    967.74\n",
       "1         603.31    524.27    474.77\n",
       "2         725.02    587.33    506.13\n",
       "3       1,085.99    820.10    672.53\n",
       "Answer  3,505.23  2,948.66  2,621.17"
      ]
     },
     "execution_count": 63,
     "metadata": {},
     "output_type": "execute_result"
    }
   ],
   "source": [
    "# For this exercise we must find the present value of each cash flow and then\n",
    "# add them.  Extra work is required to get present values at different rates.\n",
    "\n",
    "#Given\n",
    "cash_flows = [1200, 730, 965, 1590]\n",
    "rates = [.10, .18, .24]\n",
    "\n",
    "year = 1\n",
    "results = []\n",
    "\n",
    "for rate in rates:\n",
    "    for cash in cash_flows:\n",
    "        pv = present_value_amount(cash, rate, year)\n",
    "        results.append(pv)\n",
    "        year += 1\n",
    "    year = 1\n",
    "    \n",
    "present_values = {\"10%\" : results[0:4],\n",
    "                \"18%\" : results[4:8],\n",
    "                \"24%\" : results[8:]}\n",
    "\n",
    "df = pd.DataFrame(present_values)\n",
    "df.loc['Answer'] = df.sum()\n",
    "\n",
    "#Format DataFrame style\n",
    "df['10%'] = df['10%'].map('{:,.2f}'.format)\n",
    "df['18%'] = df['18%'].map('{:,.2f}'.format)\n",
    "df['24%'] = df['24%'].map('{:,.2f}'.format)\n",
    "df\n"
   ]
  },
  {
   "cell_type": "code",
   "execution_count": null,
   "id": "ab01f880-44d5-40ad-9e2a-0963ddac3a77",
   "metadata": {},
   "outputs": [],
   "source": []
  },
  {
   "cell_type": "markdown",
   "id": "fbfdcee9-6507-4b66-a8b1-2b49e2187f80",
   "metadata": {},
   "source": [
    "**12. Present Value and Multiple Cash Flows** - Investment X offers to pay you 5,500 per year for nine years, whereas Investment Y offers to pay you 8,000 per year for five years.  Which of these cash flows streams has the higher present value if the discount rate is 5 percent? If the discount rae is 22 percent?"
   ]
  },
  {
   "cell_type": "code",
   "execution_count": 9,
   "id": "dc3d1aba-4ad7-489d-9712-96783c2cbf78",
   "metadata": {},
   "outputs": [
    {
     "data": {
      "text/html": [
       "<style type=\"text/css\">\n",
       "#T_c6940_row0_col0, #T_c6940_row0_col1, #T_c6940_row0_col2, #T_c6940_row0_col3, #T_c6940_row1_col0, #T_c6940_row1_col1, #T_c6940_row1_col2, #T_c6940_row1_col3 {\n",
       "  text-align: center;\n",
       "}\n",
       "</style>\n",
       "<table id=\"T_c6940\">\n",
       "  <thead>\n",
       "    <tr>\n",
       "      <th class=\"blank level0\" >&nbsp;</th>\n",
       "      <th id=\"T_c6940_level0_col0\" class=\"col_heading level0 col0\" >Rates</th>\n",
       "      <th id=\"T_c6940_level0_col1\" class=\"col_heading level0 col1\" >Investment_X</th>\n",
       "      <th id=\"T_c6940_level0_col2\" class=\"col_heading level0 col2\" >Investment_Y</th>\n",
       "      <th id=\"T_c6940_level0_col3\" class=\"col_heading level0 col3\" >Higher_PV</th>\n",
       "    </tr>\n",
       "  </thead>\n",
       "  <tbody>\n",
       "    <tr>\n",
       "      <th id=\"T_c6940_level0_row0\" class=\"row_heading level0 row0\" >0</th>\n",
       "      <td id=\"T_c6940_row0_col0\" class=\"data row0 col0\" >5%</td>\n",
       "      <td id=\"T_c6940_row0_col1\" class=\"data row0 col1\" >39,093.02</td>\n",
       "      <td id=\"T_c6940_row0_col2\" class=\"data row0 col2\" >34,635.81</td>\n",
       "      <td id=\"T_c6940_row0_col3\" class=\"data row0 col3\" >X</td>\n",
       "    </tr>\n",
       "    <tr>\n",
       "      <th id=\"T_c6940_level0_row1\" class=\"row_heading level0 row1\" >1</th>\n",
       "      <td id=\"T_c6940_row1_col0\" class=\"data row1 col0\" >22%</td>\n",
       "      <td id=\"T_c6940_row1_col1\" class=\"data row1 col1\" >20,824.57</td>\n",
       "      <td id=\"T_c6940_row1_col2\" class=\"data row1 col2\" >22,909.12</td>\n",
       "      <td id=\"T_c6940_row1_col3\" class=\"data row1 col3\" >Y</td>\n",
       "    </tr>\n",
       "  </tbody>\n",
       "</table>\n"
      ],
      "text/plain": [
       "<pandas.io.formats.style.Styler at 0x7f38e6118c90>"
      ]
     },
     "execution_count": 9,
     "metadata": {},
     "output_type": "execute_result"
    }
   ],
   "source": [
    "rates = [.05, .22]\n",
    "\n",
    "data = {\n",
    "    \"Rates\" : rates,\n",
    "    \"Investment_X\" : [annuityPVFactor(5500, x, 9) for x in rates],\n",
    "    \"Investment_Y\" : [annuityPVFactor(8000, x, 5) for x in rates]\n",
    "}\n",
    "\n",
    "\n",
    "df = pd.DataFrame(data)\n",
    "\n",
    "df[\"Higher_PV\"] = df.apply(lambda row: higher_pv(row[\"Investment_X\"], \\\n",
    "                row[\"Investment_Y\"]), axis=1)\n",
    "\n",
    "#Format DataFrame Style\n",
    "df['Investment_X'] = df['Investment_X'].map('{:,.2f}'.format)\n",
    "df['Investment_Y'] = df['Investment_Y'].map('{:,.2f}'.format)\n",
    "df['Rates'] = df['Rates'].map('{:.0%}'.format)\n",
    "df = df.style.set_properties(**{'text-align': 'center'})\n",
    "\n",
    "df"
   ]
  },
  {
   "cell_type": "markdown",
   "id": "c13f525e-dad5-4500-bb4d-fba65cdb4e9b",
   "metadata": {},
   "source": [
    "**Analysis**\n",
    "\n",
    "X has a greater PV at 5% but a lower PV at 22%, the reason is that X has greater total cash flows.  At a lower rate total cash flow is more important since the cost of waiting (the interest rate) is not as great.\n",
    "\n",
    "On the other hand, Y is more valuable at a higher interest rate because it has larger cash flows.  At a higher rate these larger cash flows early are more important since the cost of waiting (the interest rate) is so much greater."
   ]
  },
  {
   "cell_type": "code",
   "execution_count": null,
   "id": "910ebbea-a014-4ea2-a149-c576adf077ce",
   "metadata": {},
   "outputs": [],
   "source": []
  },
  {
   "cell_type": "markdown",
   "id": "30007767-7ba2-4119-b2e7-a73311edf7fc",
   "metadata": {},
   "source": [
    "**13. Calculating Annuity Present Value** - An investment offers 4,300 per year for 15 years, with the first payment occurring one year from now.  If the required return is 9 percent, what is the value of the investment?  What would the value be if the payments occurred ofr 40 years? For 75 years? Forever?"
   ]
  },
  {
   "cell_type": "code",
   "execution_count": 18,
   "id": "565ad80d-f46c-48f2-935c-5f3e969582e6",
   "metadata": {},
   "outputs": [
    {
     "data": {
      "text/html": [
       "<style type=\"text/css\">\n",
       "#T_51149_row0_col0, #T_51149_row0_col1, #T_51149_row0_col2, #T_51149_row0_col3 {\n",
       "  text-align: center;\n",
       "}\n",
       "</style>\n",
       "<table id=\"T_51149\">\n",
       "  <thead>\n",
       "    <tr>\n",
       "      <th class=\"blank level0\" >&nbsp;</th>\n",
       "      <th id=\"T_51149_level0_col0\" class=\"col_heading level0 col0\" >15y</th>\n",
       "      <th id=\"T_51149_level0_col1\" class=\"col_heading level0 col1\" >40y</th>\n",
       "      <th id=\"T_51149_level0_col2\" class=\"col_heading level0 col2\" >75y</th>\n",
       "      <th id=\"T_51149_level0_col3\" class=\"col_heading level0 col3\" >Forever</th>\n",
       "    </tr>\n",
       "  </thead>\n",
       "  <tbody>\n",
       "    <tr>\n",
       "      <th id=\"T_51149_level0_row0\" class=\"row_heading level0 row0\" >Answer</th>\n",
       "      <td id=\"T_51149_row0_col0\" class=\"data row0 col0\" >34,660.96</td>\n",
       "      <td id=\"T_51149_row0_col1\" class=\"data row0 col1\" >46,256.65</td>\n",
       "      <td id=\"T_51149_row0_col2\" class=\"data row0 col2\" >47,703.26</td>\n",
       "      <td id=\"T_51149_row0_col3\" class=\"data row0 col3\" >47,777.78</td>\n",
       "    </tr>\n",
       "  </tbody>\n",
       "</table>\n"
      ],
      "text/plain": [
       "<pandas.io.formats.style.Styler at 0x7f38c0e6e810>"
      ]
     },
     "execution_count": 18,
     "metadata": {},
     "output_type": "execute_result"
    }
   ],
   "source": [
    "payment = 4300\n",
    "rate = .09\n",
    "\n",
    "annuities = {\n",
    "    \"15y\" : annuityPVFactor(payment, rate, 15),\n",
    "    \"40y\" : annuityPVFactor(payment, rate, 40),\n",
    "    \"75y\" : annuityPVFactor(payment, rate, 75),\n",
    "    \"Forever\" : perpetuity(payment, rate) \n",
    "}\n",
    "\n",
    "df = pd.DataFrame(annuities, index=['Answer'])\n",
    "df['15y'] = df['15y'].map('{:,.2f}'.format)\n",
    "df['40y'] = df['40y'].map('{:,.2f}'.format)\n",
    "df['75y'] = df['75y'].map('{:,.2f}'.format)\n",
    "df['Forever'] = df['Forever'].map('{:,.2f}'.format)\n",
    "df = df.style.set_properties(**{'text-align': 'center'})\n",
    "\n",
    "df"
   ]
  },
  {
   "cell_type": "code",
   "execution_count": null,
   "id": "69e97959-fdb7-40af-a7de-e3626a7fdb1e",
   "metadata": {},
   "outputs": [],
   "source": []
  },
  {
   "cell_type": "markdown",
   "id": "703312b8-c6c2-4cbd-910f-14e3f73f231b",
   "metadata": {},
   "source": [
    "**14. Calculating Perpetuity Values** - The Perpetual Life Insurance Co. is trying to sell you an investment policy that will pay you and you heirs 20,000 per year forever.  \n",
    "\n",
    "* a. If the required return on this investment is 6.5 percent, how much will you pay for the policy?\n",
    "* b. Suppose the Perpetual Life Insurance Co. told you the policy costs 340,000.  At what interest rate would this be a fair deal?"
   ]
  },
  {
   "cell_type": "code",
   "execution_count": 28,
   "id": "4586e487-d32e-446b-a717-5c6df28c8f8b",
   "metadata": {},
   "outputs": [
    {
     "name": "stdout",
     "output_type": "stream",
     "text": [
      "Answers:\n",
      "a. I would pay 307,692.31 for the perpetuity.\n",
      "b. 5.88% would be a fair deal.\n"
     ]
    }
   ],
   "source": [
    "#given\n",
    "payment = 20000\n",
    "offer = 340000\n",
    "rate = 6.5\n",
    "\n",
    "# Lets first find the price of the perpetuity\n",
    "a = perpetuity(payment, rate/100)\n",
    "\n",
    "# Lets now find a fair rate for the price been asked.\n",
    "b = payment / offer\n",
    "\n",
    "answer = f'Answers:\\na. I would pay {a:,.2f} for the perpetuity.\\nb. \\\n",
    "{b*100:.2f}% would be a fair deal.'\n",
    "\n",
    "print(answer)"
   ]
  },
  {
   "cell_type": "code",
   "execution_count": null,
   "id": "d1085f04-d462-4028-b6de-3642e016cdba",
   "metadata": {},
   "outputs": [],
   "source": []
  }
 ],
 "metadata": {
  "kernelspec": {
   "display_name": "Python 3 (ipykernel)",
   "language": "python",
   "name": "python3"
  },
  "language_info": {
   "codemirror_mode": {
    "name": "ipython",
    "version": 3
   },
   "file_extension": ".py",
   "mimetype": "text/x-python",
   "name": "python",
   "nbconvert_exporter": "python",
   "pygments_lexer": "ipython3",
   "version": "3.11.8"
  }
 },
 "nbformat": 4,
 "nbformat_minor": 5
}
