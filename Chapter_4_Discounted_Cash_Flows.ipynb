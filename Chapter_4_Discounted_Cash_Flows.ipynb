{
 "cells": [
  {
   "cell_type": "markdown",
   "id": "54713545-b2f6-4032-b54b-b38f2334c4f5",
   "metadata": {},
   "source": [
    "# Chapter 4 - Discounted Cash Flow Valuation"
   ]
  },
  {
   "cell_type": "markdown",
   "id": "790e1794-7498-454e-93c8-94b87507ae80",
   "metadata": {},
   "source": [
    "**Selected Exercises**\n",
    "\n",
    "Corporate Finance 9th International Edition\n",
    "\n",
    "Ross, Westerfield, Jaffe"
   ]
  },
  {
   "cell_type": "code",
   "execution_count": 1,
   "id": "94d6e531-2549-43a5-ab7d-f314047a9ea0",
   "metadata": {},
   "outputs": [],
   "source": [
    "import pandas as pd\n",
    "\n",
    "# Lets define some functions so we can reuse them later.\n",
    "\n",
    "def future_value_simple(amount, rate, periods):\n",
    "    \"\"\"Returns future value with simple interest\"\"\"\n",
    "    return f'{amount + (amount * interest_rate) * periods:,.2f}'\n",
    "\n",
    "def future_value_compounded(amount, rate, periods):\n",
    "    \"\"\"Returns future value with compounding interest\"\"\"\n",
    "    return f'{amount * (1 + rate) ** periods:,.2f}'\n",
    "    "
   ]
  },
  {
   "cell_type": "markdown",
   "id": "a701552f-d28d-4bb2-aa23-200edc9c14a7",
   "metadata": {},
   "source": [
    "**1. Simple vs Compound Interest** - First City Bank pays 9 percent simple interest on its savings account balances, whereas Second City Bank pays 9 percent interest compounded annually.  If you made a a 5,000 deposit in each bank, how much more money would you earn from your Second City Bank account at the end of 10 years?"
   ]
  },
  {
   "cell_type": "code",
   "execution_count": 2,
   "id": "b6ad521c-911a-4ed4-a477-afe3de6a695e",
   "metadata": {},
   "outputs": [
    {
     "data": {
      "text/html": [
       "<div>\n",
       "<style scoped>\n",
       "    .dataframe tbody tr th:only-of-type {\n",
       "        vertical-align: middle;\n",
       "    }\n",
       "\n",
       "    .dataframe tbody tr th {\n",
       "        vertical-align: top;\n",
       "    }\n",
       "\n",
       "    .dataframe thead th {\n",
       "        text-align: right;\n",
       "    }\n",
       "</style>\n",
       "<table border=\"1\" class=\"dataframe\">\n",
       "  <thead>\n",
       "    <tr style=\"text-align: right;\">\n",
       "      <th></th>\n",
       "      <th>First Bank</th>\n",
       "      <th>Second Bank</th>\n",
       "    </tr>\n",
       "  </thead>\n",
       "  <tbody>\n",
       "    <tr>\n",
       "      <th>0</th>\n",
       "      <td>9,500.00</td>\n",
       "      <td>11,836.82</td>\n",
       "    </tr>\n",
       "  </tbody>\n",
       "</table>\n",
       "</div>"
      ],
      "text/plain": [
       "  First Bank Second Bank\n",
       "0   9,500.00   11,836.82"
      ]
     },
     "execution_count": 2,
     "metadata": {},
     "output_type": "execute_result"
    }
   ],
   "source": [
    "interest_rate = .09\n",
    "deposit = 5000\n",
    "periods = 10\n",
    "\n",
    "First_Bank = future_value_simple(deposit, interest_rate, periods)\n",
    "Second_Bank = future_value_compounded(deposit, interest_rate, periods)\n",
    "\n",
    "df = pd.DataFrame([[First_Bank, Second_Bank]],\n",
    "                 columns = (\"First Bank\",\"Second Bank\"))\n",
    "\n",
    "df"
   ]
  },
  {
   "cell_type": "code",
   "execution_count": null,
   "id": "f73698bf-7f7c-4e52-b4bb-97b8e9c239a3",
   "metadata": {},
   "outputs": [],
   "source": []
  },
  {
   "cell_type": "markdown",
   "id": "324b582e-158e-4dfb-b8e1-f13bacec16a1",
   "metadata": {},
   "source": [
    "**2. Calculating Future Values** - Compute the future value of 1,000 compounded annually for: \n",
    "\n",
    "* a. 10 years at 6 percent\n",
    "* b. 10 years at 9 percent\n",
    "* c. 20 years at 6 percent"
   ]
  },
  {
   "cell_type": "code",
   "execution_count": 3,
   "id": "7942b73f-c32b-4cde-9caf-de1694c2296b",
   "metadata": {},
   "outputs": [
    {
     "data": {
      "text/html": [
       "<div>\n",
       "<style scoped>\n",
       "    .dataframe tbody tr th:only-of-type {\n",
       "        vertical-align: middle;\n",
       "    }\n",
       "\n",
       "    .dataframe tbody tr th {\n",
       "        vertical-align: top;\n",
       "    }\n",
       "\n",
       "    .dataframe thead th {\n",
       "        text-align: right;\n",
       "    }\n",
       "</style>\n",
       "<table border=\"1\" class=\"dataframe\">\n",
       "  <thead>\n",
       "    <tr style=\"text-align: right;\">\n",
       "      <th></th>\n",
       "      <th>Amount</th>\n",
       "      <th>Periods</th>\n",
       "      <th>Rate</th>\n",
       "      <th>Answer</th>\n",
       "    </tr>\n",
       "  </thead>\n",
       "  <tbody>\n",
       "    <tr>\n",
       "      <th>0</th>\n",
       "      <td>1000</td>\n",
       "      <td>10</td>\n",
       "      <td>0.06</td>\n",
       "      <td>1,790.85</td>\n",
       "    </tr>\n",
       "    <tr>\n",
       "      <th>1</th>\n",
       "      <td>1000</td>\n",
       "      <td>10</td>\n",
       "      <td>0.09</td>\n",
       "      <td>2,367.36</td>\n",
       "    </tr>\n",
       "    <tr>\n",
       "      <th>2</th>\n",
       "      <td>1000</td>\n",
       "      <td>20</td>\n",
       "      <td>0.06</td>\n",
       "      <td>3,207.14</td>\n",
       "    </tr>\n",
       "  </tbody>\n",
       "</table>\n",
       "</div>"
      ],
      "text/plain": [
       "   Amount  Periods  Rate    Answer\n",
       "0    1000       10  0.06  1,790.85\n",
       "1    1000       10  0.09  2,367.36\n",
       "2    1000       20  0.06  3,207.14"
      ]
     },
     "execution_count": 3,
     "metadata": {},
     "output_type": "execute_result"
    }
   ],
   "source": [
    "df = pd.DataFrame([[1000, 10, .06],\n",
    "                    [1000, 10, .09],\n",
    "                    [1000, 20, .06]],\n",
    "                    columns=(\"Amount\", \"Periods\", \"Rate\"))\n",
    "\n",
    "df['Answer'] = df.apply(lambda row: future_value_compounded(row['Amount'], row['Rate'], row['Periods']), axis=1)\n",
    "\n",
    "df"
   ]
  },
  {
   "cell_type": "code",
   "execution_count": null,
   "id": "51566c38-b245-48fe-839f-1eb7193c6135",
   "metadata": {},
   "outputs": [],
   "source": []
  }
 ],
 "metadata": {
  "kernelspec": {
   "display_name": "Python 3 (ipykernel)",
   "language": "python",
   "name": "python3"
  },
  "language_info": {
   "codemirror_mode": {
    "name": "ipython",
    "version": 3
   },
   "file_extension": ".py",
   "mimetype": "text/x-python",
   "name": "python",
   "nbconvert_exporter": "python",
   "pygments_lexer": "ipython3",
   "version": "3.11.8"
  }
 },
 "nbformat": 4,
 "nbformat_minor": 5
}
