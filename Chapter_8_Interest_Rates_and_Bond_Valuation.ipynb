{
 "cells": [
  {
   "cell_type": "markdown",
   "id": "208312a0-46df-4619-9af8-c39b741ed831",
   "metadata": {},
   "source": [
    "# Chapter 8 - Interest Rates and Bond Valuation"
   ]
  },
  {
   "cell_type": "markdown",
   "id": "21376083-c0d7-4c4f-9f67-752c61830f6d",
   "metadata": {},
   "source": [
    "Corporate Finance 9th International Edition\n",
    "\n",
    "Ross, Westerfield, Jaffe"
   ]
  },
  {
   "cell_type": "code",
   "execution_count": 26,
   "id": "db8d2fba-bf75-4fba-9329-da4be53f0667",
   "metadata": {},
   "outputs": [],
   "source": [
    "import pandas as pd\n",
    "import numpy_financial as npf\n",
    "\n",
    "# Lets define some function so we can reuse them later.\n",
    "\n",
    "def zero_coupon(face, ytm, years, compound=1):\n",
    "    \n",
    "    return face / (1 + (ytm / compound))**(years*compound)\n",
    "\n",
    "def bond_value(face, ytm, periods, coupon, compound=1):\n",
    "    \n",
    "    bv = coupon * ((1 - (1/(1+(ytm/compound)))**(periods*compound)) / (ytm/compound)) + \\\n",
    "        face * (1 / (1 + (ytm/compound))**(periods*compound)) \n",
    "    \n",
    "    return bv\n",
    "\n",
    "def realRate(rate, inflation):\n",
    "    \"\"\"Returns Real Rate (Nominal Rate Adjusted for Inflation)\"\"\"\n",
    "    inflation = inflation / 100\n",
    "    real = ((1 + rate) / (1 + inflation)) - 1\n",
    "    return real\n"
   ]
  },
  {
   "cell_type": "markdown",
   "id": "d1cd2359-ef35-43bc-865f-a066673db6a1",
   "metadata": {},
   "source": [
    "**1. Valuing Bonds** - What is the price of a 10-year, zero coupon bond paying 1,000 at maturity if the YTM is:\n",
    "\n",
    "* a. 5 percent?\n",
    "* b. 10 percent?\n",
    "* c. 15 percent?"
   ]
  },
  {
   "cell_type": "code",
   "execution_count": 9,
   "id": "151f3262-b9b1-4309-850d-46c85fca0559",
   "metadata": {},
   "outputs": [
    {
     "data": {
      "text/html": [
       "<div>\n",
       "<style scoped>\n",
       "    .dataframe tbody tr th:only-of-type {\n",
       "        vertical-align: middle;\n",
       "    }\n",
       "\n",
       "    .dataframe tbody tr th {\n",
       "        vertical-align: top;\n",
       "    }\n",
       "\n",
       "    .dataframe thead th {\n",
       "        text-align: right;\n",
       "    }\n",
       "</style>\n",
       "<table border=\"1\" class=\"dataframe\">\n",
       "  <thead>\n",
       "    <tr style=\"text-align: right;\">\n",
       "      <th></th>\n",
       "      <th>5.0%</th>\n",
       "      <th>10.0%</th>\n",
       "      <th>15.0%</th>\n",
       "    </tr>\n",
       "  </thead>\n",
       "  <tbody>\n",
       "    <tr>\n",
       "      <th>0</th>\n",
       "      <td>610.27</td>\n",
       "      <td>376.89</td>\n",
       "      <td>235.41</td>\n",
       "    </tr>\n",
       "  </tbody>\n",
       "</table>\n",
       "</div>"
      ],
      "text/plain": [
       "     5.0%   10.0%   15.0%\n",
       "0  610.27  376.89  235.41"
      ]
     },
     "execution_count": 9,
     "metadata": {},
     "output_type": "execute_result"
    }
   ],
   "source": [
    "#Given\n",
    "years = 10\n",
    "\n",
    "amount = 1000\n",
    "ytms = [.05, .10, .15]\n",
    "\n",
    "prices = []\n",
    "columns = []\n",
    "\n",
    "for yields in ytms:\n",
    "    #\n",
    "    price = f'{zero_coupon(amount, yields, years, compound=2):,.2f}'\n",
    "    col = f'{yields*100}%'\n",
    "    prices.append(price)\n",
    "    columns.append(col)\n",
    "\n",
    "df = pd.DataFrame([prices], columns=columns)\n",
    "df\n"
   ]
  },
  {
   "cell_type": "markdown",
   "id": "c9d403a6-6215-4749-a367-3ea54316025a",
   "metadata": {},
   "source": [
    "**Comment**\n",
    "\n",
    "Even though there are no coupon payments, the periods are semiannual to stay consistent with coupon bond payments.  That is why we specify compound=2."
   ]
  },
  {
   "cell_type": "code",
   "execution_count": null,
   "id": "8e6a2f11-61b9-4940-9652-5a1a5c4fd74c",
   "metadata": {},
   "outputs": [],
   "source": []
  },
  {
   "cell_type": "markdown",
   "id": "689f866f-0136-40dd-ad60-59d0fb116133",
   "metadata": {},
   "source": [
    "**2. Valuing Bonds** - Microhard has issued a bond with the following characteristics:\n",
    "\n",
    "* Par: 1,000\n",
    "* Time to maturity: 25 years\n",
    "* Coupon rate: 7 percent\n",
    "* Semiannual payments\n",
    "\n",
    "Calculate the price of this bond if the YTM is:\n",
    "* a. 7 percent\n",
    "* b. 9 percent\n",
    "* c. 5 percent"
   ]
  },
  {
   "cell_type": "code",
   "execution_count": 7,
   "id": "702f88ea-76d8-4d12-af59-a118753f65dd",
   "metadata": {},
   "outputs": [],
   "source": []
  },
  {
   "cell_type": "code",
   "execution_count": 15,
   "id": "ab9889ed-dc5b-4ac5-8c94-0e50d17060e5",
   "metadata": {},
   "outputs": [
    {
     "data": {
      "text/html": [
       "<div>\n",
       "<style scoped>\n",
       "    .dataframe tbody tr th:only-of-type {\n",
       "        vertical-align: middle;\n",
       "    }\n",
       "\n",
       "    .dataframe tbody tr th {\n",
       "        vertical-align: top;\n",
       "    }\n",
       "\n",
       "    .dataframe thead th {\n",
       "        text-align: right;\n",
       "    }\n",
       "</style>\n",
       "<table border=\"1\" class=\"dataframe\">\n",
       "  <thead>\n",
       "    <tr style=\"text-align: right;\">\n",
       "      <th></th>\n",
       "      <th>7%</th>\n",
       "      <th>9%</th>\n",
       "      <th>5%</th>\n",
       "    </tr>\n",
       "  </thead>\n",
       "  <tbody>\n",
       "    <tr>\n",
       "      <th>0</th>\n",
       "      <td>1,000.00</td>\n",
       "      <td>802.38</td>\n",
       "      <td>1,283.62</td>\n",
       "    </tr>\n",
       "  </tbody>\n",
       "</table>\n",
       "</div>"
      ],
      "text/plain": [
       "         7%      9%        5%\n",
       "0  1,000.00  802.38  1,283.62"
      ]
     },
     "execution_count": 15,
     "metadata": {},
     "output_type": "execute_result"
    }
   ],
   "source": [
    "# Given\n",
    "face = 1000\n",
    "periods = 25\n",
    "coupon_rate = .07\n",
    "compound = 2 # semiannual\n",
    "coupon = (face * coupon_rate)/compound\n",
    "\n",
    "prices = []\n",
    "columns = []\n",
    "ytms = [.07, .09, .05]\n",
    "\n",
    "for y in ytms:\n",
    "    \n",
    "    price = f'{bond_value(face, y, periods, coupon, compound=2):,.2f}'\n",
    "    col = f'{y*100:.0f}%'\n",
    "    prices.append(price)\n",
    "    columns.append(col)\n",
    "\n",
    "df = pd.DataFrame([prices], columns=columns)\n",
    "df"
   ]
  },
  {
   "cell_type": "markdown",
   "id": "5a2660a2-058b-420f-8a99-69fe4564930d",
   "metadata": {},
   "source": [
    "**Comment**\n",
    "\n",
    "* a. `1,000` - When the YTM and the coupon rate are equal, the bond will sell at par.\n",
    "* b. `802.38` - When the YTM is greater than the coupon rate, the bond will sell at a discount.\n",
    "* c. `1,283.62` - When the YTM is less than the coupon rate, the bond will sell at a premium."
   ]
  },
  {
   "cell_type": "code",
   "execution_count": null,
   "id": "56308eeb-0b6a-4a1d-aeb7-6422f48ba8ed",
   "metadata": {},
   "outputs": [],
   "source": []
  },
  {
   "cell_type": "markdown",
   "id": "23d78d9f-28f2-4be5-94fd-baa2474e0b65",
   "metadata": {},
   "source": [
    "**6. Bond Yields** - A Japanese company has a bond outstanding that sells for 87 percent of it s 100,000 par value.  The bond has a coupon rate of 5.4 percent paid annually and matures in 21 years.  What is the yield to maturity of this bond?"
   ]
  },
  {
   "cell_type": "code",
   "execution_count": 18,
   "id": "9fba7fd5-09d4-42ab-aab7-2aa429217de2",
   "metadata": {},
   "outputs": [
    {
     "data": {
      "text/plain": [
       "'Yield to maturity (YTM) of the bond: 6.53'"
      ]
     },
     "execution_count": 18,
     "metadata": {},
     "output_type": "execute_result"
    }
   ],
   "source": [
    "# Given information\n",
    "face_value = 100000\n",
    "bond_value = face_value * 0.87  # Assuming the bond value is 87% of the face value\n",
    "coupon_rate = 0.054\n",
    "periods = 21\n",
    "compounding = 1  # Assuming yearly compounding\n",
    "\n",
    "# Calculate coupon payments\n",
    "coupon_payment = face_value * coupon_rate\n",
    "\n",
    "# Generate cash flows\n",
    "cash_flows = [-bond_value] + [coupon_payment] * periods + [coupon_payment + face_value]\n",
    "\n",
    "# Calculate yield to maturity (YTM)\n",
    "ytm = npf.irr(cash_flows)\n",
    "\n",
    "answer = f'Yield to maturity (YTM) of the bond: {ytm*100:.2f}'\n",
    "answer"
   ]
  },
  {
   "cell_type": "code",
   "execution_count": null,
   "id": "c98748ea-e34d-4139-9b7e-13701ebad438",
   "metadata": {},
   "outputs": [],
   "source": []
  },
  {
   "cell_type": "markdown",
   "id": "f5d85d95-c768-4099-a10a-16328395d7d7",
   "metadata": {},
   "source": [
    "**7. Calculating Real Rates of Return** - If Treasury bills are currently paying 5 percent and the inflation rate is 3.9 percen, what is the approximate real rate of interest?  The exact real rate?"
   ]
  },
  {
   "cell_type": "code",
   "execution_count": 41,
   "id": "4ed2c69e-5099-48a4-ad55-08b8b9410e7c",
   "metadata": {},
   "outputs": [
    {
     "data": {
      "text/plain": [
       "'The aproximate real rate of interest is 1.10%, while the exact real rate is 1.06%.'"
      ]
     },
     "execution_count": 41,
     "metadata": {},
     "output_type": "execute_result"
    }
   ],
   "source": [
    "#Given\n",
    "rate = .05\n",
    "inflation = .039\n",
    "\n",
    "approximate = treasury_bill - inflation\n",
    "fish = ((1 + rate)/(1+inflation)) - 1\n",
    "\n",
    "answer = f'The aproximate real rate of interest is {approximate*100:.2f}%, while \\\n",
    "the exact real rate is {fish*100:.2f}%.'\n",
    "answer"
   ]
  },
  {
   "cell_type": "code",
   "execution_count": null,
   "id": "cd128496-d7c9-4834-8dd1-67f2c971b4f2",
   "metadata": {},
   "outputs": [],
   "source": []
  },
  {
   "cell_type": "markdown",
   "id": "82f16602-0413-4f0a-b0e0-d64da0f47ed6",
   "metadata": {},
   "source": [
    "**8. Inflation and Nominal Returns** - Suppose the real rate is 2.5 percent and the inflation rate is 4.7 percent.  What rate would you expect to see on a Treasury bill?"
   ]
  },
  {
   "cell_type": "code",
   "execution_count": 40,
   "id": "61e74305-f240-4177-a09c-6e782cd7280b",
   "metadata": {},
   "outputs": [
    {
     "data": {
      "text/plain": [
       "'I would expect to see a rate of 7.32% on a treasury bill.'"
      ]
     },
     "execution_count": 40,
     "metadata": {},
     "output_type": "execute_result"
    }
   ],
   "source": [
    "#given \n",
    "real_rate = .025\n",
    "inflation = .047\n",
    "\n",
    "fish = ((1 + real_rate) * (1 + inflation)) - 1\n",
    "\n",
    "answer = f'I would expect to see a rate of {fish*100:.2f}% on a treasury bill.'\n",
    "answer"
   ]
  },
  {
   "cell_type": "code",
   "execution_count": null,
   "id": "ce4617ca-74f8-499d-a65b-2cb321d8b888",
   "metadata": {},
   "outputs": [],
   "source": []
  }
 ],
 "metadata": {
  "kernelspec": {
   "display_name": "Python 3 (ipykernel)",
   "language": "python",
   "name": "python3"
  },
  "language_info": {
   "codemirror_mode": {
    "name": "ipython",
    "version": 3
   },
   "file_extension": ".py",
   "mimetype": "text/x-python",
   "name": "python",
   "nbconvert_exporter": "python",
   "pygments_lexer": "ipython3",
   "version": "3.11.8"
  }
 },
 "nbformat": 4,
 "nbformat_minor": 5
}
