{
 "cells": [
  {
   "cell_type": "markdown",
   "id": "d26ac1a5-ce8f-424c-a6a7-80697dcce899",
   "metadata": {},
   "source": [
    "# Chapter 5 - Net Present Value and Other Investment Rules"
   ]
  },
  {
   "cell_type": "markdown",
   "id": "6b3e0d61-482f-4e27-9069-ca3b76a7cfca",
   "metadata": {},
   "source": [
    "**Selected Exercises**\n",
    "\n",
    "Corporate Finance 9th International Edition\n",
    "\n",
    "Ross, Westerfield, Jaffe"
   ]
  },
  {
   "cell_type": "code",
   "execution_count": null,
   "id": "0b727166-2677-4c2d-9431-82e8296ee5f8",
   "metadata": {},
   "outputs": [],
   "source": []
  },
  {
   "cell_type": "code",
   "execution_count": 1,
   "id": "4b5ecc66-0d2e-4896-9ece-244d3bd57f62",
   "metadata": {},
   "outputs": [],
   "source": [
    "import pandas as pd\n",
    "import numpy as np\n",
    "import numpy_financial as npf\n",
    "import matplotlib.pyplot as plt\n",
    "\n",
    "%matplotlib inline\n",
    "\n",
    "#Lets define some functions so we can use them later\n",
    "\n",
    "def dual_bar(df, title):\n",
    "    \n",
    "    # Set the figure size to be practical for a Jupyter Notebook\n",
    "    plt.figure(figsize=(8, 6))\n",
    "\n",
    "    # Plot cash flows for Project A\n",
    "    plt.bar(df['Year'], df['Project_A'], label='Project A', color='blue', alpha=0.7)\n",
    "\n",
    "    # Plot cash flows for Project B\n",
    "    plt.bar(df['Year'], df['Project_B'], label='Project B', color='green', alpha=0.5)\n",
    "\n",
    "    # Add labels and title\n",
    "    plt.xlabel('Year')\n",
    "    plt.ylabel('Cash Flow')\n",
    "    plt.title(title)\n",
    "    plt.legend()\n",
    "\n",
    "    # Show plot\n",
    "    plt.show()\n",
    "\n",
    "def present_value_amount(amount, rate, periods):\n",
    "    \"\"\"Returns the present value of $1\"\"\"\n",
    "    \n",
    "    pv_fact = 1 / (1 + rate)**(periods)\n",
    "    \n",
    "    return pv_fact * amount\n",
    "    \n",
    "def payback(flow):\n",
    "    \"\"\"Returns Payback Period of a series.\"\"\"\n",
    "\n",
    "    pb = 0\n",
    "    cumulative = np.cumsum(flow)\n",
    "    \n",
    "    for i, v in enumerate(cumulative):\n",
    "        \n",
    "        if v >= 0:\n",
    "            pb = (i - 1) + (abs(cumulative[i - 1]) / flow[i])\n",
    "            break\n",
    "            \n",
    "    return pb"
   ]
  },
  {
   "cell_type": "code",
   "execution_count": null,
   "id": "21e9dfd9-c325-4c78-8fb3-663840098491",
   "metadata": {},
   "outputs": [],
   "source": []
  },
  {
   "cell_type": "markdown",
   "id": "81bf02ba-e45c-4da0-96c9-073a57738e0c",
   "metadata": {},
   "source": [
    "**1. Calculating Payback Period and NPV** - Fuji Software, Inc has the following mutually exclusive projects:"
   ]
  },
  {
   "cell_type": "code",
   "execution_count": null,
   "id": "e4ec8b03-70ae-4df9-be97-e74ad791c82a",
   "metadata": {},
   "outputs": [],
   "source": [
    "\"\"\"\n",
    "Year    Project A    Project B\n",
    "0        -10,000      -12,000\n",
    "1          6,500        7,000\n",
    "2          4,000        4,000\n",
    "3          1,800        5,000\n",
    "\n",
    "a. Suppose Fuji's payback period cutoff is two years. \n",
    "Which of these two projects should be chosen?\n",
    "\n",
    "b. Suppose Fuji uses the NPV rule to rank these two projects.\n",
    "Which project should be chosen if the appropriate discount rate\n",
    "is 15 percent?\n",
    "\"\"\""
   ]
  },
  {
   "cell_type": "code",
   "execution_count": 53,
   "id": "37d93303-a97f-44d2-abba-a64ec1d3274c",
   "metadata": {},
   "outputs": [
    {
     "name": "stdout",
     "output_type": "stream",
     "text": [
      " Year  Project_A  Project_B\n",
      "    0     -10000     -12000\n",
      "    1       6500       7000\n",
      "    2       4000       4000\n",
      "    3       1800       5000\n"
     ]
    }
   ],
   "source": [
    "#Read data\n",
    "df = pd.DataFrame([[0, -10000, -12000],\n",
    "                  [1, 6500, 7000],\n",
    "                  [2, 4000, 4000],\n",
    "                  [3, 1800, 5000]],\n",
    "                 columns=(\"Year\", \"Project_A\", \"Project_B\"))\n",
    "\n",
    "# Lets create an object for evaluation\n",
    "projects = {\n",
    "    \"Measures\" : [\"Payback\", \"NPV\"],\n",
    "    \"Project A\" : [payback(df['Project_A']), npf.npv(.15, df['Project_A'])],\n",
    "    \"Project B\" : [payback(df['Project_B']), npf.npv(.15, df['Project_B'])]\n",
    "}\n",
    "\n",
    "#Format DataFrame Style\n",
    "results = pd.DataFrame(projects)\n",
    "results['Project A'] = results['Project A'].map('{:,.2f}'.format)\n",
    "results['Project B'] = results['Project B'].map('{:,.2f}'.format)\n",
    "\n",
    "#Lets visualize the data\n",
    "print(df.to_string(index=False))"
   ]
  },
  {
   "cell_type": "code",
   "execution_count": 59,
   "id": "6c60be06-191d-4e04-98e2-7786a5e41135",
   "metadata": {},
   "outputs": [
    {
     "data": {
      "image/png": "[encoded data removed]",
      "text/plain": [
       "<Figure size 800x600 with 1 Axes>"
      ]
     },
     "metadata": {},
     "output_type": "display_data"
    }
   ],
   "source": [
    "dual_bar(df, 'Project Evaluation')"
   ]
  },
  {
   "cell_type": "code",
   "execution_count": 55,
   "id": "f20ee4a5-575d-49e0-a657-65dbd09449dd",
   "metadata": {},
   "outputs": [
    {
     "data": {
      "text/html": [
       "<div>\n",
       "<style scoped>\n",
       "    .dataframe tbody tr th:only-of-type {\n",
       "        vertical-align: middle;\n",
       "    }\n",
       "\n",
       "    .dataframe tbody tr th {\n",
       "        vertical-align: top;\n",
       "    }\n",
       "\n",
       "    .dataframe thead th {\n",
       "        text-align: right;\n",
       "    }\n",
       "</style>\n",
       "<table border=\"1\" class=\"dataframe\">\n",
       "  <thead>\n",
       "    <tr style=\"text-align: right;\">\n",
       "      <th></th>\n",
       "      <th>Measures</th>\n",
       "      <th>Project A</th>\n",
       "      <th>Project B</th>\n",
       "    </tr>\n",
       "  </thead>\n",
       "  <tbody>\n",
       "    <tr>\n",
       "      <th>0</th>\n",
       "      <td>Payback</td>\n",
       "      <td>1.88</td>\n",
       "      <td>2.20</td>\n",
       "    </tr>\n",
       "    <tr>\n",
       "      <th>1</th>\n",
       "      <td>NPV</td>\n",
       "      <td>-139.72</td>\n",
       "      <td>399.11</td>\n",
       "    </tr>\n",
       "  </tbody>\n",
       "</table>\n",
       "</div>"
      ],
      "text/plain": [
       "  Measures Project A Project B\n",
       "0  Payback      1.88      2.20\n",
       "1      NPV   -139.72    399.11"
      ]
     },
     "execution_count": 55,
     "metadata": {},
     "output_type": "execute_result"
    }
   ],
   "source": [
    "# Lets visualize the results\n",
    "results"
   ]
  },
  {
   "cell_type": "markdown",
   "id": "032e7c33-c66c-4a61-b284-9cfba5e4975e",
   "metadata": {},
   "source": [
    "**Analysis**\n",
    "* `Payback Period` - Since Project A has a shorter payback period than Project B has, the company should choose project A.\n",
    "* `Net Present Value` - The Firm should choose Project B since it has a higher NPV than Project A has."
   ]
  },
  {
   "cell_type": "code",
   "execution_count": null,
   "id": "dfda8198-80f9-48ec-8ceb-48b5bfc50f1b",
   "metadata": {},
   "outputs": [],
   "source": []
  },
  {
   "cell_type": "markdown",
   "id": "38aa4f42-88a7-451a-8cfc-770c36722f9e",
   "metadata": {},
   "source": [
    "**2. Calculating Payback** - An investment project provides cash inflows of 970 per year for eight years.  What is the project payback period if the initial cost is 4,100? What if the initial cost is 6,000? What if it is 8,000?"
   ]
  },
  {
   "cell_type": "code",
   "execution_count": 111,
   "id": "c29fa3a3-6403-4d3e-8c3d-1d24f0823db3",
   "metadata": {},
   "outputs": [
    {
     "name": "stdout",
     "output_type": "stream",
     "text": [
      "  Years Project A Project B Project C\n",
      "      0 -4,100.00 -6,000.00 -8,000.00\n",
      "      1    970.00    970.00    970.00\n",
      "      2    970.00    970.00    970.00\n",
      "      3    970.00    970.00    970.00\n",
      "      4    970.00    970.00    970.00\n",
      "      5    970.00    970.00    970.00\n",
      "      6    970.00    970.00    970.00\n",
      "      7    970.00    970.00    970.00\n",
      "      8    970.00    970.00    970.00\n",
      "Payback      4.23      6.19      0.00\n"
     ]
    }
   ],
   "source": [
    "investments = [-4100, -6000, -8000]\n",
    "\n",
    "projects = {\n",
    "    \"Years\" : [x for x in range(0, 9)],\n",
    "    \"Project A\" : [970] * 8,\n",
    "    \"Project B\" : [970] * 8,\n",
    "    \"Project C\" : [970] * 8,\n",
    "}\n",
    "\n",
    "count = 0\n",
    "paybacks = []\n",
    "\n",
    "for k, v in projects.items():\n",
    "    if k == \"Years\" or k == \"Payback\":\n",
    "        continue\n",
    "    else:\n",
    "        v.insert(0, investments[count])\n",
    "        pb_value = payback(v)\n",
    "        paybacks.append(pb_value)\n",
    "        count += 1\n",
    "\n",
    "#Format DataFrame Styles\n",
    "df = pd.DataFrame(projects)\n",
    "df.loc[len(df)] = ['Payback'] + paybacks\n",
    "df['Project A'] = df['Project A'].map('{:,.2f}'.format)\n",
    "df['Project B'] = df['Project B'].map('{:,.2f}'.format)\n",
    "df['Project C'] = df['Project C'].map('{:,.2f}'.format)\n",
    "print(df.to_string(index=False))"
   ]
  },
  {
   "cell_type": "markdown",
   "id": "48650f20-684c-4076-9c61-8244b0afb5af",
   "metadata": {},
   "source": [
    "**Analysis**\n",
    "\n",
    "Project A should be chosen over all other projects because it has the lowest payback period. Project C, in reality has a payback period of 8.25 but that means there is not a complete recovery of the investment, hence the algorithm returns 0 because there is no payback period."
   ]
  }
 ],
 "metadata": {
  "kernelspec": {
   "display_name": "Python 3 (ipykernel)",
   "language": "python",
   "name": "python3"
  },
  "language_info": {
   "codemirror_mode": {
    "name": "ipython",
    "version": 3
   },
   "file_extension": ".py",
   "mimetype": "text/x-python",
   "name": "python",
   "nbconvert_exporter": "python",
   "pygments_lexer": "ipython3",
   "version": "3.11.8"
  }
 },
 "nbformat": 4,
 "nbformat_minor": 5
}
