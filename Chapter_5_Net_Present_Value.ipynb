{
 "cells": [
  {
   "cell_type": "markdown",
   "id": "d26ac1a5-ce8f-424c-a6a7-80697dcce899",
   "metadata": {},
   "source": [
    "# Chapter 5 - Net Present Value and Other Investment Rules"
   ]
  },
  {
   "cell_type": "markdown",
   "id": "6b3e0d61-482f-4e27-9069-ca3b76a7cfca",
   "metadata": {},
   "source": [
    "**Selected Exercises**\n",
    "\n",
    "Corporate Finance 9th International Edition\n",
    "\n",
    "Ross, Westerfield, Jaffe"
   ]
  },
  {
   "cell_type": "code",
   "execution_count": null,
   "id": "0b727166-2677-4c2d-9431-82e8296ee5f8",
   "metadata": {},
   "outputs": [],
   "source": []
  },
  {
   "cell_type": "code",
   "execution_count": null,
   "id": "4b5ecc66-0d2e-4896-9ece-244d3bd57f62",
   "metadata": {},
   "outputs": [],
   "source": [
    "import numpy_financial as npf\n",
    "import pandas as pd\n",
    "import matplotlib.pyplot as plt\n",
    "from matplotlib.ticker import MaxNLocator\n",
    "\n",
    "#Lets define some functions so we can use them later\n",
    "\n",
    "def bar_chart(df, name):\n",
    "    \n",
    "    fig, ax = plt.subplots(figsize=(10, 5))\n",
    "    ax.set_title(name)\n",
    "    ax.grid(True, which='minor')\n",
    "    ax.axhline(y=0, color='k')\n",
    "    ax.xaxis.set_major_locator(MaxNLocator(integer=True))\n",
    "      \n",
    "    ax.bar(df.index, df['Cash Flows'],\n",
    "        color = df.positive.map({True: 'g', False: 'r'}))\n",
    "      \n",
    "    plt.show()\n"
   ]
  },
  {
   "cell_type": "code",
   "execution_count": null,
   "id": "21e9dfd9-c325-4c78-8fb3-663840098491",
   "metadata": {},
   "outputs": [],
   "source": []
  },
  {
   "cell_type": "markdown",
   "id": "81bf02ba-e45c-4da0-96c9-073a57738e0c",
   "metadata": {},
   "source": []
  }
 ],
 "metadata": {
  "kernelspec": {
   "display_name": "Python 3 (ipykernel)",
   "language": "python",
   "name": "python3"
  },
  "language_info": {
   "codemirror_mode": {
    "name": "ipython",
    "version": 3
   },
   "file_extension": ".py",
   "mimetype": "text/x-python",
   "name": "python",
   "nbconvert_exporter": "python",
   "pygments_lexer": "ipython3",
   "version": "3.11.8"
  }
 },
 "nbformat": 4,
 "nbformat_minor": 5
}
